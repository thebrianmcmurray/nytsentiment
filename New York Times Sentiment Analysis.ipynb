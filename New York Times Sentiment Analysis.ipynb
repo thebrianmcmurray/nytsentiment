{
 "cells": [
  {
   "cell_type": "markdown",
   "metadata": {},
   "source": [
    "# New York Times Front Page Sentiment Analysis"
   ]
  },
  {
   "cell_type": "markdown",
   "metadata": {},
   "source": [
    "<b>\"There is so much terrible news.\" </b>\n",
    "\n",
    "We've all heard someone say that at one point or another. The news seems to provide a constant influx of negativity and horrible details of events transpiring in the world around us. You can't pick up the paper without reading about the latest military conflict, drug crisis, or flu pandemic. Has the news actually gotten worse over time?\n",
    "\n",
    "In an effort to shed some light on this, we'll use the New York Times' archive API to collect the front page article headlines and synopsis for articles spanning from 1852 to 2018. We will then perform sentiment analysis on these news articles to determine whether they conveyed a positive sentiment, a negative sentiment, or a neutral sentiment. The wording that is used in the article headline and synopsis can have as much of an impact on the sentiment of it as the topic it covers."
   ]
  },
  {
   "cell_type": "markdown",
   "metadata": {},
   "source": [
    "## Environment Setup\n",
    "First we will start by importing the main libraries that we will use for this task."
   ]
  },
  {
   "cell_type": "code",
   "execution_count": 1,
   "metadata": {},
   "outputs": [],
   "source": [
    "# The usual libraries\n",
    "import csv\n",
    "import json\n",
    "import time\n",
    "import nltk\n",
    "import requests\n",
    "import pandas as pd\n",
    "import numpy as np"
   ]
  },
  {
   "cell_type": "markdown",
   "metadata": {},
   "source": [
    "The New York Times requires that you register and use an API key for accessing their APIs. I've removed my API key from this, so if you wish to utilize this code you will need to register your own API key with them at their <a href=\"https://developer.nytimes.com/\"> Developer Portal</a>."
   ]
  },
  {
   "cell_type": "code",
   "execution_count": 3,
   "metadata": {},
   "outputs": [],
   "source": [
    "api_key = \"XXXXX\""
   ]
  },
  {
   "cell_type": "markdown",
   "metadata": {},
   "source": [
    "## Data Mining\n",
    "\n",
    "Let's first test the API to see what the data looks like by querying for news articles from the month of March, 1852."
   ]
  },
  {
   "cell_type": "code",
   "execution_count": 4,
   "metadata": {
    "scrolled": true
   },
   "outputs": [
    {
     "data": {
      "text/plain": [
       "dict_keys(['copyright', 'response'])"
      ]
     },
     "execution_count": 4,
     "metadata": {},
     "output_type": "execute_result"
    }
   ],
   "source": [
    "# Perform API request using the requests library\n",
    "result = requests.get(\"https://api.nytimes.com/svc/archive/v1/1852/4.json?api-key={}\".format(api_key))\n",
    "\n",
    "# Parse the response using the JSON library\n",
    "response = json.loads(result.text)\n",
    "\n",
    "# Display the parsed JSON keys.\n",
    "response.keys()"
   ]
  },
  {
   "cell_type": "markdown",
   "metadata": {},
   "source": [
    "Let's take a look at the response key, as that will contain the fields we are looking for most likely."
   ]
  },
  {
   "cell_type": "code",
   "execution_count": 5,
   "metadata": {},
   "outputs": [
    {
     "data": {
      "text/plain": [
       "dict_keys(['meta', 'docs'])"
      ]
     },
     "execution_count": 5,
     "metadata": {},
     "output_type": "execute_result"
    }
   ],
   "source": [
    "response['response'].keys()"
   ]
  },
  {
   "cell_type": "markdown",
   "metadata": {},
   "source": [
    "Now let's take a look at one of the first documents."
   ]
  },
  {
   "cell_type": "code",
   "execution_count": 6,
   "metadata": {},
   "outputs": [
    {
     "data": {
      "text/plain": [
       "{'abstract': \"The engine Jersey City, attached to the 10 o'clock train from Newark to New-York, yesterday morning ran off the track against the rocks when about half way through the Bergen cut. The engine was greatly shattered, the front part of the first passenger car, containing the baggage room, was broken in, and the tender was thrown upon the other track, obstructing it so that the opposite train was delayed for a considerable tune.  \",\n",
       " 'web_url': 'https://www.nytimes.com/1852/04/03/archives/article-5-no-title.html',\n",
       " 'snippet': '',\n",
       " 'lead_paragraph': '',\n",
       " 'print_page': '2',\n",
       " 'source': 'The New York Times',\n",
       " 'multimedia': [],\n",
       " 'headline': {'main': 'Article 5 -- No Title',\n",
       "  'kicker': '1',\n",
       "  'content_kicker': None,\n",
       "  'print_headline': 'Article 5 -- No Title',\n",
       "  'name': None,\n",
       "  'seo': None,\n",
       "  'sub': None},\n",
       " 'keywords': [],\n",
       " 'pub_date': '1852-04-03T05:00:00+0000',\n",
       " 'document_type': 'article',\n",
       " 'news_desk': 'None',\n",
       " 'section_name': 'Archives',\n",
       " 'byline': {'original': None, 'person': [], 'organization': None},\n",
       " 'type_of_material': 'Archives',\n",
       " '_id': 'nyt://article/327e6cdd-4cee-5ea1-a4a8-a1d7352b5db0',\n",
       " 'word_count': 0,\n",
       " 'uri': 'nyt://article/327e6cdd-4cee-5ea1-a4a8-a1d7352b5db0'}"
      ]
     },
     "execution_count": 6,
     "metadata": {},
     "output_type": "execute_result"
    }
   ],
   "source": [
    "response['response']['docs'][0]"
   ]
  },
  {
   "cell_type": "markdown",
   "metadata": {},
   "source": [
    "### Building The Dataset\n",
    "Now that we know what the data looks like, we know which fields we want to capture. The get_articles function will take the array of articles received from an API query, and then extract the information that we want to keep. This function was expanded as the process went on, due to the fact that certain fields in the data were inconsistent between years."
   ]
  },
  {
   "cell_type": "code",
   "execution_count": 8,
   "metadata": {},
   "outputs": [],
   "source": [
    "def get_articles(articles):\n",
    "    # Create an array to save the article dictionaries to.\n",
    "    front_pages = []\n",
    "    \n",
    "    # Loop through each article in the response\n",
    "    for article in articles['response']['docs']:\n",
    "        '''\n",
    "        We only want articles that were on the front page. The format used to identify this changed\n",
    "        throughout the years, so we have to check for a few different possible values.\n",
    "        ''' \n",
    "        if 'print_page' in article.keys() \\\n",
    "            and (article['print_page'] == '1' \\\n",
    "                 or article['print_page'] == 'FRONT_P' \\\n",
    "                 or article['print_page'] == 1\n",
    "            ):\n",
    "            \n",
    "            # Empty the values for each field so that they are blank by default.\n",
    "            lead_paragraph, snippet, abstract = \"\", \"\", \"\"\n",
    "            \n",
    "            '''\n",
    "            Here we check to ensure that the key is present in this document, since their presence\n",
    "            wasn't consistent. If it is present, we grab the value and add it to the dictionary later.\n",
    "            '''\n",
    "            if 'lead_paragraph' in article.keys():\n",
    "                lead_paragraph = article['lead_paragraph']\n",
    "                \n",
    "            if 'snippet' in article.keys():\n",
    "                snippet = article['snippet']\n",
    "                \n",
    "            if 'abstract' in article.keys():\n",
    "                abstract = article['abstract']\n",
    "                \n",
    "            # Build the dictionary and then append it to the front_pages array.\n",
    "            if 'main' in article['headline'].keys():\n",
    "                page_dict = {'headline': article['headline']['main'],\n",
    "                            'snippet': snippet,\n",
    "                            'abstract': abstract,\n",
    "                            'lead_paragraph': lead_paragraph,\n",
    "                            'pub_date': article['pub_date']}\n",
    "                front_pages.append(page_dict)\n",
    "                \n",
    "    # Once all articles have been processed, return the array of dictionaries.\n",
    "    return front_pages"
   ]
  },
  {
   "cell_type": "markdown",
   "metadata": {},
   "source": [
    "#### Grab all of the articles from the New York Times' API and create the dataset\n",
    "\n",
    "Here we will create a list of years, and then in a series of nested for loops, grab the articles for each month for each year and store it in an array. This will result in an array of arrays of dictionaries, which will get converted into a Pandas DataFrame. Since this prints the number of articles collected for each year, the output of this code is lengthy. To save space, the output won't be displayed in this saved notebook."
   ]
  },
  {
   "cell_type": "code",
   "execution_count": null,
   "metadata": {},
   "outputs": [],
   "source": [
    "years = list(range(1852, 2019))\n",
    "last_year = 0\n",
    "last_month = 0\n",
    "headlines = []\n",
    "\n",
    "for year in years:\n",
    "    for month in list(range(1, 13)):\n",
    "        last_year, last_month = year, month\n",
    "        response = requests.get(\"https://api.nytimes.com/svc/archive/v1/{}/{}.json?api-key={}\".format(year, month, api_key))\n",
    "        headlines.append(get_headlines(json.loads(response.text)))\n",
    "        print(\"{}/{}: {} headlines\".format(year, month, len(new_headlines)))\n",
    "        \n",
    "        # Sleep for 6 seconds between each API request to avoid their rate limits.\n",
    "        time.sleep(6)"
   ]
  },
  {
   "cell_type": "markdown",
   "metadata": {},
   "source": [
    "Flatten the list of lists into a single list of dictionaries."
   ]
  },
  {
   "cell_type": "code",
   "execution_count": 9,
   "metadata": {},
   "outputs": [],
   "source": [
    "output = [item for sublist in headlines for item in sublist]"
   ]
  },
  {
   "cell_type": "markdown",
   "metadata": {},
   "source": [
    "Let's see how many front page articles we collected."
   ]
  },
  {
   "cell_type": "code",
   "execution_count": 10,
   "metadata": {},
   "outputs": [
    {
     "name": "stdout",
     "output_type": "stream",
     "text": [
      "1278635\n"
     ]
    }
   ],
   "source": [
    "len(output)"
   ]
  },
  {
   "cell_type": "markdown",
   "metadata": {},
   "source": [
    "That's a lot of articles to work with! Now let's convert the array of dictionaries to a Pandas DataFrame, and then for good measure we'll also save this data to a CSV, just in case our kernel crashes."
   ]
  },
  {
   "cell_type": "code",
   "execution_count": 13,
   "metadata": {},
   "outputs": [],
   "source": [
    "dataset = pd.DataFrame(output)\n",
    "dataset.to_csv('data.csv')\n",
    "\n",
    "# In case we need to pick up where we left off later\n",
    "#dataset = pd.read_csv('data.csv')"
   ]
  },
  {
   "cell_type": "markdown",
   "metadata": {},
   "source": [
    "Just to ensure everything converted correclty, we'll display the first few rows of the dataset."
   ]
  },
  {
   "cell_type": "code",
   "execution_count": 14,
   "metadata": {},
   "outputs": [
    {
     "data": {
      "text/html": [
       "<div>\n",
       "<style scoped>\n",
       "    .dataframe tbody tr th:only-of-type {\n",
       "        vertical-align: middle;\n",
       "    }\n",
       "\n",
       "    .dataframe tbody tr th {\n",
       "        vertical-align: top;\n",
       "    }\n",
       "\n",
       "    .dataframe thead th {\n",
       "        text-align: right;\n",
       "    }\n",
       "</style>\n",
       "<table border=\"1\" class=\"dataframe\">\n",
       "  <thead>\n",
       "    <tr style=\"text-align: right;\">\n",
       "      <th></th>\n",
       "      <th>headline</th>\n",
       "      <th>snippet</th>\n",
       "      <th>abstract</th>\n",
       "      <th>lead_paragraph</th>\n",
       "      <th>pub_date</th>\n",
       "    </tr>\n",
       "  </thead>\n",
       "  <tbody>\n",
       "    <tr>\n",
       "      <th>0</th>\n",
       "      <td>BROOKLYN.</td>\n",
       "      <td>NaN</td>\n",
       "      <td>BROOKLYN COMMON COUNCIL.--This Board adjourned...</td>\n",
       "      <td>NaN</td>\n",
       "      <td>1852-01-01T05:00:00+0000</td>\n",
       "    </tr>\n",
       "    <tr>\n",
       "      <th>1</th>\n",
       "      <td>GOVERNOR KOSSUTH IN AMERICA.; For the New-York...</td>\n",
       "      <td>NaN</td>\n",
       "      <td>NaN</td>\n",
       "      <td>NaN</td>\n",
       "      <td>1852-01-01T05:00:00+0000</td>\n",
       "    </tr>\n",
       "    <tr>\n",
       "      <th>2</th>\n",
       "      <td>FRANCE.; Louis Bonaparte and Divine Right--His...</td>\n",
       "      <td>Departmt. of Basse Alpes refuses to recognize ...</td>\n",
       "      <td>Departmt. of Basse Alpes refuses to recognize ...</td>\n",
       "      <td>NaN</td>\n",
       "      <td>1852-01-01T05:00:00+0000</td>\n",
       "    </tr>\n",
       "    <tr>\n",
       "      <th>3</th>\n",
       "      <td>NEW-YORK CITY.</td>\n",
       "      <td>NaN</td>\n",
       "      <td>AMUSEMENTS THIS EVENING.</td>\n",
       "      <td>NaN</td>\n",
       "      <td>1852-01-01T05:00:00+0000</td>\n",
       "    </tr>\n",
       "    <tr>\n",
       "      <th>4</th>\n",
       "      <td>ENGLAND.; The Coup d'Etat of the French Presid...</td>\n",
       "      <td>independence of the press</td>\n",
       "      <td>independence of the press</td>\n",
       "      <td>NaN</td>\n",
       "      <td>1852-01-01T05:00:00+0000</td>\n",
       "    </tr>\n",
       "  </tbody>\n",
       "</table>\n",
       "</div>"
      ],
      "text/plain": [
       "                                            headline  \\\n",
       "0                                          BROOKLYN.   \n",
       "1  GOVERNOR KOSSUTH IN AMERICA.; For the New-York...   \n",
       "2  FRANCE.; Louis Bonaparte and Divine Right--His...   \n",
       "3                                     NEW-YORK CITY.   \n",
       "4  ENGLAND.; The Coup d'Etat of the French Presid...   \n",
       "\n",
       "                                             snippet  \\\n",
       "0                                                NaN   \n",
       "1                                                NaN   \n",
       "2  Departmt. of Basse Alpes refuses to recognize ...   \n",
       "3                                                NaN   \n",
       "4                          independence of the press   \n",
       "\n",
       "                                            abstract lead_paragraph  \\\n",
       "0  BROOKLYN COMMON COUNCIL.--This Board adjourned...            NaN   \n",
       "1                                                NaN            NaN   \n",
       "2  Departmt. of Basse Alpes refuses to recognize ...            NaN   \n",
       "3                         AMUSEMENTS THIS EVENING.              NaN   \n",
       "4                          independence of the press            NaN   \n",
       "\n",
       "                   pub_date  \n",
       "0  1852-01-01T05:00:00+0000  \n",
       "1  1852-01-01T05:00:00+0000  \n",
       "2  1852-01-01T05:00:00+0000  \n",
       "3  1852-01-01T05:00:00+0000  \n",
       "4  1852-01-01T05:00:00+0000  "
      ]
     },
     "execution_count": 14,
     "metadata": {},
     "output_type": "execute_result"
    }
   ],
   "source": [
    "dataset.head()"
   ]
  },
  {
   "cell_type": "markdown",
   "metadata": {},
   "source": [
    "## Data Cleaning\n",
    "As we can see, the data will need some cleaning and preparation before we can use it. Let's start by replacing the NaN fields with empty strings, and converting pub_date to a datetime column. We'll also combine all of the available strings into a single column. This is because we are going to use all of the text available for each article in the sentiment analysis."
   ]
  },
  {
   "cell_type": "code",
   "execution_count": 15,
   "metadata": {},
   "outputs": [],
   "source": [
    "dataset['pub_date'] = pd.to_datetime(dataset['pub_date'])\n",
    "dataset.fillna(value=\"\", inplace=True)\n",
    "dataset['combined'] = dataset.headline + ' ' + dataset.snippet + ' ' + dataset.lead_paragraph + ' ' + dataset.abstract"
   ]
  },
  {
   "cell_type": "markdown",
   "metadata": {},
   "source": [
    "Some of the articles in the dataset also contain values such as 'No Title', or a similar variation of it. Let's use a regular expression (regex) to remove those strings from the combined field."
   ]
  },
  {
   "cell_type": "code",
   "execution_count": 16,
   "metadata": {},
   "outputs": [],
   "source": [
    "dataset['combined'] = dataset['combined'].str.replace('^.+-- No Title','',regex=True)"
   ]
  },
  {
   "cell_type": "markdown",
   "metadata": {},
   "source": [
    "We want to make sure that we have enough text to use for sentiment analysis. We'll go into more detail later, but since we're using the Valence Aware Dictionary and Sentiment Reasoner (VADER) for sentiment analysis, we dont need a lot of text. Just to be save, let's clean up the dataset further and remove anything that is shorter than 20 characters."
   ]
  },
  {
   "cell_type": "code",
   "execution_count": 17,
   "metadata": {},
   "outputs": [
    {
     "name": "stdout",
     "output_type": "stream",
     "text": [
      "Total Records: 1278635\n",
      "Filtered Records: 1198265\n"
     ]
    }
   ],
   "source": [
    "print(\"Total Records: {}\".format(len(dataset)))\n",
    "dataset = dataset[dataset.combined.str.len() > 20]\n",
    "print(\"Filtered Records: {}\".format(len(dataset)))\n",
    "dataset.reset_index(inplace=True)"
   ]
  },
  {
   "cell_type": "markdown",
   "metadata": {},
   "source": [
    "It looks like that dropped a little over 80,000 articles. That still leaves us with almost 1.2 million articles to work with.\n",
    "\n",
    "### Sentiment Analysis\n",
    "\n",
    "Now on to the next fun part. First, let's import the VADER sentiment analysis model from the NLTK library. We'll randomly choose an article from the dataset and run it through the model as well, just to make sure that it works as expected."
   ]
  },
  {
   "cell_type": "code",
   "execution_count": 18,
   "metadata": {},
   "outputs": [
    {
     "name": "stdout",
     "output_type": "stream",
     "text": [
      "Castro Says U.S. Backs Action to Overthrow Him; CASTRO SAYS U.S. BACKS HIS ENEMY HAVANA, Saturday, April 23 -- Premier Fidel Castro, in a talk during the night, flatly accused the United States of planning an act of aggression against Cuba and more specifically of stimulating a counter-revolution here to overthrow his regime. ... HAVANA, Saturday, April 23 -- Premier Fidel Castro, in a talk during the night, flatly accused the United States of planning an act of aggression against Cuba and more specifically of stimulating a counter-revolution here to overthrow his regime. He charged the United States with fascist policies in its treatment of Cuba. Castro charges US 'maneuvers' in OAS ostensibly against Trujillo are really aimed at Cuba, TV s\n"
     ]
    },
    {
     "name": "stderr",
     "output_type": "stream",
     "text": [
      "[nltk_data] Downloading package vader_lexicon to\n",
      "[nltk_data]     C:\\Users\\Brian\\AppData\\Roaming\\nltk_data...\n",
      "[nltk_data]   Package vader_lexicon is already up-to-date!\n"
     ]
    },
    {
     "data": {
      "text/plain": [
       "{'neg': 0.169, 'neu': 0.727, 'pos': 0.105, 'compound': -0.713}"
      ]
     },
     "execution_count": 18,
     "metadata": {},
     "output_type": "execute_result"
    }
   ],
   "source": [
    "from nltk.sentiment.vader import SentimentIntensityAnalyzer\n",
    "\n",
    "nltk.download('vader_lexicon')\n",
    "sia = SentimentIntensityAnalyzer()\n",
    "print(dataset['combined'].iloc[702000])\n",
    "sia.polarity_scores(dataset['combined'].iloc[702000])"
   ]
  },
  {
   "cell_type": "markdown",
   "metadata": {},
   "source": [
    "#### Running sentiment analysis on the dataset\n",
    "\n",
    "We'll capture each value that the model outputs, just incase we decide to use it later. This process will take quite a while, so we'll load the TQDM library to give us a progress bar as it goes through the nearly 1.2 million articles and calculates their predicted sentiment. We're going to apply sentance case capitalization to the data. This was used partially due to the usage of all uppercase newsline headers at various points in time by the New York Times."
   ]
  },
  {
   "cell_type": "code",
   "execution_count": null,
   "metadata": {},
   "outputs": [],
   "source": [
    "from tqdm.notebook import tqdm_notebook\n",
    "\n",
    "for index, record in tqdm_notebook(dataset.iterrows()):\n",
    "    score = sia.polarity_scores(record.combined.capitalize())\n",
    "    dataset.loc[index, 'neg'] = score['neg']\n",
    "    dataset.loc[index, 'neu'] = score['neu']\n",
    "    dataset.loc[index, 'pos'] = score['pos']\n",
    "    dataset.loc[index, 'compound'] = score['compound']"
   ]
  },
  {
   "cell_type": "markdown",
   "metadata": {},
   "source": [
    "Since that took a long time to run, let's save the output to a csv as well."
   ]
  },
  {
   "cell_type": "code",
   "execution_count": 20,
   "metadata": {},
   "outputs": [
    {
     "name": "stderr",
     "output_type": "stream",
     "text": [
      "c:\\anaconda3\\envs\\py36\\lib\\site-packages\\IPython\\core\\interactiveshell.py:2785: DtypeWarning: Columns (4) have mixed types. Specify dtype option on import or set low_memory=False.\n",
      "  interactivity=interactivity, compiler=compiler, result=result)\n",
      "c:\\anaconda3\\envs\\py36\\lib\\site-packages\\numpy\\lib\\arraysetops.py:569: FutureWarning: elementwise comparison failed; returning scalar instead, but in the future will perform elementwise comparison\n",
      "  mask |= (ar1 == a)\n"
     ]
    }
   ],
   "source": [
    "dataset.to_csv('dataset.csv')\n",
    "\n",
    "# In case we need to pick up where we left off later\n",
    "#dataset = pd.read_csv('dataset.csv', index_col=0, parse_dates=['pub_date'])"
   ]
  },
  {
   "cell_type": "markdown",
   "metadata": {},
   "source": [
    "Let's now create a column that contains a string value for each article indicating whether it was classified as Positive, Negative, or Neutral. With the VADER model, anything grater than 0 is considered positive, and anything less than zero is considered negative. A value of 0 is considered negative. We'll broaden the range for Neutral to include anything between <b>-0.05</b> to <b>0.05</b> as Neutral."
   ]
  },
  {
   "cell_type": "code",
   "execution_count": 21,
   "metadata": {},
   "outputs": [],
   "source": [
    "dataset['sentiment'] = ['Positive' if x > 0.05 else 'Negative' if x < -0.05 else \"Neutral\" for x in dataset['compound']]"
   ]
  },
  {
   "cell_type": "markdown",
   "metadata": {},
   "source": [
    "## Data Visualization\n",
    "Let's aggregate the number of different sentiment values by the publication year. We can use this to summarize the data  a bit and make it easier to read."
   ]
  },
  {
   "cell_type": "code",
   "execution_count": 22,
   "metadata": {},
   "outputs": [
    {
     "name": "stderr",
     "output_type": "stream",
     "text": [
      "C:\\Users\\Brian\\AppData\\Roaming\\Python\\Python36\\site-packages\\pandas\\core\\arrays\\datetimes.py:1269: UserWarning: Converting to PeriodArray/Index representation will drop timezone information.\n",
      "  UserWarning,\n"
     ]
    }
   ],
   "source": [
    "df = pd.crosstab(dataset['pub_date'].dt.to_period('y'), dataset['sentiment'])"
   ]
  },
  {
   "cell_type": "markdown",
   "metadata": {},
   "source": [
    "Throughout the years, the New York Times has changed the format of their front pages. Some years had considerably more articles per page than others. To clean this up, we'll normalize the counts by representing it as a percentage for each year.\n",
    "\n",
    "<table><tr><td><img src='NYTimes1852.jpg'></td><td><img src='NYTimes1936.jpg'></td></tr></table>"
   ]
  },
  {
   "cell_type": "code",
   "execution_count": 23,
   "metadata": {},
   "outputs": [],
   "source": [
    "totals = df['Negative'] + df['Positive'] + df['Neutral']\n",
    "df['Negative'] = df['Negative'] / totals * 100\n",
    "df['Positive'] = df['Positive'] / totals * 100\n",
    "df['Neutral'] = df['Neutral'] / totals * 100"
   ]
  },
  {
   "cell_type": "markdown",
   "metadata": {},
   "source": [
    "### Significant Words\n",
    "\n",
    "Let's also look at the most frequently occurring word that was significant in its sentiment value as a stand alone word. This may be ineteresting in demonstrating themes throughout the years. We'll calculate this by removing all stop words, and creating a count for each unique word for all negative and positive articles each year. We'll then take each unique word and multiply its count by the sentiment score calculated by VADER for that word."
   ]
  },
  {
   "cell_type": "code",
   "execution_count": 25,
   "metadata": {},
   "outputs": [],
   "source": [
    "import matplotlib.pyplot as plt\n",
    "from nltk.corpus import stopwords\n",
    "from collections import Counter\n",
    "from sklearn.feature_extraction.text import CountVectorizer\n",
    "from gensim import models\n",
    "import string\n",
    "\n",
    "stop_words = set(stopwords.words('english'))\n",
    "\n",
    "common_neg = []\n",
    "common_pos = []\n",
    "\n",
    "for group in dataset.groupby([dataset.pub_date.dt.year, 'sentiment']):\n",
    "    if group[0][1] == 'Neutral':\n",
    "        continue\n",
    "    \n",
    "    content = group[1].combined.str.cat().lower()\n",
    "    translator = content.maketrans(\"\",\"\", string.punctuation)\n",
    "    content = content.translate(translator)\n",
    "    tokens = nltk.tokenize.word_tokenize(content)\n",
    "    tokens = [word for word in tokens if word.isalpha()]\n",
    "    counter = Counter([w for w in tokens if not w in stop_words and len(w) > 2])\n",
    "    \n",
    "    for word in counter:\n",
    "        counter[word] = counter[word] * sia.polarity_scores(word)['compound']\n",
    "    \n",
    "    if group[0][1] == 'Positive':\n",
    "        common_pos.append(max(counter, key=counter.get))\n",
    "        \n",
    "    elif group[0][1] == 'Negative':\n",
    "        common_neg.append(min(counter, key=counter.get))"
   ]
  },
  {
   "cell_type": "markdown",
   "metadata": {},
   "source": [
    "### Graphing Sentiment Percentage by Year\n",
    "Now to the most exciting part, let's graph the percentage of each type of sentiment by the publication year. We'll also include the most significant negative and positive word for each year."
   ]
  },
  {
   "cell_type": "code",
   "execution_count": 27,
   "metadata": {
    "scrolled": false
   },
   "outputs": [
    {
     "data": {
      "text/html": [
       "        <script type=\"text/javascript\">\n",
       "        window.PlotlyConfig = {MathJaxConfig: 'local'};\n",
       "        if (window.MathJax) {MathJax.Hub.Config({SVG: {font: \"STIX-Web\"}});}\n",
       "        if (typeof require !== 'undefined') {\n",
       "        require.undef(\"plotly\");\n",
       "        requirejs.config({\n",
       "            paths: {\n",
       "                'plotly': ['https://cdn.plot.ly/plotly-latest.min']\n",
       "            }\n",
       "        });\n",
       "        require(['plotly'], function(Plotly) {\n",
       "            window._Plotly = Plotly;\n",
       "        });\n",
       "        }\n",
       "        </script>\n",
       "        "
      ]
     },
     "metadata": {},
     "output_type": "display_data"
    },
    {
     "data": {
      "application/vnd.plotly.v1+json": {
       "config": {
        "plotlyServerURL": "https://plot.ly"
       },
       "data": [
        {
         "marker": {
          "color": "red"
         },
         "name": "Negative",
         "orientation": "h",
         "text": [
          "fire",
          "fire",
          "fire",
          "death",
          "fire",
          "murder",
          "death",
          "war",
          "war",
          "war",
          "war",
          "war",
          "war",
          "war",
          "war",
          "war",
          "murder",
          "murder",
          "war",
          "killed",
          "killed",
          "murder",
          "killed",
          "death",
          "war",
          "war",
          "murder",
          "murder",
          "war",
          "death",
          "murder",
          "murder",
          "killed",
          "killed",
          "killed",
          "killed",
          "killed",
          "killed",
          "killed",
          "death",
          "killed",
          "killed",
          "killed",
          "killed",
          "killed",
          "killed",
          "war",
          "war",
          "war",
          "killed",
          "killed",
          "killed",
          "killed",
          "killed",
          "killed",
          "killed",
          "killed",
          "killed",
          "killed",
          "killed",
          "killed",
          "killed",
          "war",
          "war",
          "war",
          "war",
          "war",
          "war",
          "killed",
          "killed",
          "killed",
          "death",
          "killed",
          "war",
          "killed",
          "killed",
          "killed",
          "killed",
          "killed",
          "war",
          "war",
          "war",
          "war",
          "war",
          "war",
          "war",
          "war",
          "war",
          "war",
          "war",
          "war",
          "war",
          "war",
          "war",
          "war",
          "war",
          "war",
          "war",
          "war",
          "war",
          "war",
          "war",
          "war",
          "war",
          "war",
          "crisis",
          "war",
          "war",
          "killed",
          "war",
          "crisis",
          "ban",
          "war",
          "war",
          "war",
          "war",
          "war",
          "killed",
          "war",
          "war",
          "war",
          "killed",
          "crisis",
          "killed",
          "killed",
          "killed",
          "killed",
          "killed",
          "war",
          "war",
          "war",
          "war",
          "killed",
          "killed",
          "war",
          "killed",
          "war",
          "war",
          "war",
          "war",
          "war",
          "war",
          "death",
          "war",
          "death",
          "death",
          "war",
          "war",
          "terrorist",
          "war",
          "war",
          "war",
          "killed",
          "war",
          "war",
          "crisis",
          "war",
          "crisis",
          "crisis",
          "crisis",
          "war",
          "war",
          "death",
          "war",
          "war",
          "war"
         ],
         "textinfo": "text",
         "textposition": "inside",
         "type": "funnel",
         "x": [
          28.72713117944726,
          31.420507996237063,
          33.767801110306536,
          31.72709923664122,
          31.5410342166195,
          35.02347417840376,
          32.81635530489954,
          35.22012578616352,
          23.076923076923077,
          29.632199861207493,
          43.70136186770428,
          41.678453559641675,
          41.875,
          35.53762041135121,
          36.67131891137474,
          36.50075414781297,
          36.08382449246889,
          39.523974982626825,
          44.37696806117859,
          41.5541103885276,
          33.311620635747786,
          38.939857288481136,
          36.18976651763537,
          37.1605789110958,
          30.51890941072999,
          39.37458416500333,
          38.0379746835443,
          38.58777302669594,
          30.86544535691725,
          35.44849679645146,
          36.43306379155436,
          42.69404290580977,
          46.3620189156288,
          48.72709739633558,
          49.43019943019943,
          46.32946270419209,
          42.727762803234505,
          41.4678506472665,
          36.258008469975024,
          38.942209516030225,
          39.778380823156944,
          51.078619367209974,
          50.36934441366574,
          42.54872933629411,
          41.56125767979761,
          42.28539576365664,
          40.39636215555858,
          40.97725568607848,
          40.307057745187905,
          39.8244213886672,
          41.61453320500481,
          45.48390955855964,
          51.203772648299825,
          47.46990133067801,
          46.804963882200404,
          49.41651311748706,
          48.29246544806063,
          47.61812548412084,
          49.33679066520395,
          48.5076907405521,
          49.4125471070716,
          49.29345722028649,
          53.53092537882398,
          53.14127777187201,
          52.6404833836858,
          53.38680926916221,
          53.29748537086826,
          43.53824927180745,
          47.177119022791594,
          49.68609865470852,
          50.98730606488011,
          48.43476083145505,
          43.33421330517424,
          47.549811523963385,
          47.623945690187206,
          47.24667349027636,
          41.567852437417656,
          45.80547767953418,
          47.66435986159169,
          48.60901444899719,
          45.69837012585104,
          43.60258818618242,
          48.068303094983996,
          47.233497116000855,
          47.73299748110831,
          44.87506374298827,
          46.32398115912349,
          49.264190609670635,
          54.21314977450747,
          55.27030362873364,
          64.36940041350793,
          62.91466483642188,
          59.37136204889406,
          54.997854997855,
          45.159941459335144,
          48.026460859977945,
          44.591859680683605,
          46.18771726535342,
          44.42985335959729,
          49.58109559613319,
          50.785105428443245,
          47.649955237242615,
          47.6391044114387,
          43.846316233903316,
          46.92713833157339,
          46.76365169723803,
          46.01109215017065,
          45.542269771344664,
          45.656230561890936,
          46.34651210929414,
          48.530943946655555,
          49.57341715312079,
          50.627162629757784,
          51.780351780351786,
          53.09657860545691,
          54.71992858736889,
          51.40165441176471,
          53.286018452803404,
          47.716275227192256,
          46.72853828306264,
          49.54061542948811,
          45.19192189380768,
          50.851825340014315,
          46.915803692030615,
          46.183145532455164,
          38.789743589743594,
          38.31316725978648,
          40.91831366949726,
          39.24372187545362,
          39.89373989373989,
          38.89427740058196,
          35.899214054553866,
          38.77906976744186,
          39.38903281519862,
          40.38830567784174,
          40.51792378152211,
          41.58899749943169,
          43.9902732746642,
          46.432465172622656,
          45.737414621806224,
          42.42006269592476,
          41.7339202739056,
          46.30810366104484,
          43.6511240632806,
          43.77644396339663,
          39.4457876139111,
          39.62770883496944,
          37.75741710296684,
          44.80475509743436,
          44.54592708101285,
          43.29001168224299,
          40.34441269363814,
          39.53181378157177,
          39.34005499541705,
          38.15404921278401,
          38.05847230800906,
          37.53757364434291,
          36.856161770316675,
          38.99289864428664,
          38.495120698510526,
          38.92557022809124,
          43.067846607669615,
          38.906134515890614,
          42.34633066575856,
          42.55917159763314,
          43.58615423771952
         ],
         "y": [
          1852,
          1853,
          1854,
          1855,
          1856,
          1857,
          1858,
          1859,
          1860,
          1861,
          1862,
          1863,
          1864,
          1865,
          1866,
          1867,
          1868,
          1869,
          1870,
          1871,
          1872,
          1873,
          1874,
          1875,
          1876,
          1877,
          1878,
          1879,
          1880,
          1881,
          1882,
          1883,
          1884,
          1885,
          1886,
          1887,
          1888,
          1889,
          1890,
          1891,
          1892,
          1893,
          1894,
          1895,
          1896,
          1897,
          1898,
          1899,
          1900,
          1901,
          1902,
          1903,
          1904,
          1905,
          1906,
          1907,
          1908,
          1909,
          1910,
          1911,
          1912,
          1913,
          1914,
          1915,
          1916,
          1917,
          1918,
          1919,
          1920,
          1921,
          1922,
          1923,
          1924,
          1925,
          1926,
          1927,
          1928,
          1929,
          1930,
          1931,
          1932,
          1933,
          1934,
          1935,
          1936,
          1937,
          1938,
          1939,
          1940,
          1941,
          1942,
          1943,
          1944,
          1945,
          1946,
          1947,
          1948,
          1949,
          1950,
          1951,
          1952,
          1953,
          1954,
          1955,
          1956,
          1957,
          1958,
          1959,
          1960,
          1961,
          1962,
          1963,
          1965,
          1966,
          1967,
          1968,
          1969,
          1970,
          1971,
          1972,
          1973,
          1974,
          1975,
          1976,
          1977,
          1978,
          1979,
          1980,
          1981,
          1982,
          1983,
          1984,
          1985,
          1986,
          1987,
          1988,
          1989,
          1990,
          1991,
          1992,
          1993,
          1994,
          1995,
          1996,
          1997,
          1998,
          1999,
          2000,
          2001,
          2002,
          2003,
          2004,
          2005,
          2006,
          2007,
          2008,
          2009,
          2010,
          2011,
          2012,
          2013,
          2014,
          2015,
          2016,
          2017,
          2018
         ]
        },
        {
         "marker": {
          "color": "gray"
         },
         "name": "Neutral",
         "orientation": "h",
         "textinfo": "none",
         "type": "funnel",
         "x": [
          37.66056831451927,
          33.27845719661336,
          34.564325368090756,
          34.63740458015267,
          30.100334448160538,
          27.918622848200314,
          27.70532252379274,
          19.025157232704405,
          35.68668774148227,
          36.36363636363637,
          25.07295719844358,
          27.864214992927867,
          27.775,
          30.825305909919294,
          25.50593161200279,
          28.140486964016375,
          27.832351015062212,
          20.691452397498264,
          14.215024741340532,
          27.580456895114224,
          33.16831683168317,
          34.78957332168341,
          38.79781420765027,
          33.370089593383874,
          33.963647024333035,
          32.50831669993347,
          33.87130801687764,
          32.89032705420086,
          34.89576753000632,
          36.12617052735337,
          36.32075471698113,
          27.041708866586873,
          15.048225489278021,
          15.351976856316297,
          13.456790123456791,
          15.213540641605983,
          15.353099730458222,
          15.406012624371456,
          36.60549462482354,
          32.54033081478456,
          32.48530076888286,
          8.221476510067115,
          7.940904893813482,
          28.596101653096472,
          29.779544633176723,
          29.86622073578595,
          28.51907153522465,
          29.70507373156711,
          30.62557286892759,
          29.745753049823282,
          28.23628488931665,
          24.991027634884556,
          20.749565649044428,
          20.566669684077123,
          22.633821077977405,
          18.926033166622798,
          19.135086937137764,
          18.53214562354764,
          18.88899970080782,
          17.36783131302842,
          16.93637774329417,
          16.81184668989547,
          16.56342323453731,
          12.56511108748804,
          11.226586102719033,
          8.244206773618538,
          9.615688755337656,
          10.99187490418519,
          11.05318039624609,
          10.026905829596412,
          9.23836389280677,
          13.586275982970196,
          13.687961985216473,
          10.796984383414108,
          9.689364328327505,
          11.627430910951894,
          10.693895476504172,
          10.631874056502049,
          10.445501730103807,
          9.661419020918698,
          10.150608623891067,
          11.667710290127323,
          9.925293489861259,
          8.673360393078402,
          7.619647355163728,
          7.19020907700153,
          5.75465902109359,
          9.50712450362065,
          10.016615238547354,
          6.985929400148111,
          6.363427521249713,
          6.337222603523221,
          5.681024447031432,
          7.228657228657228,
          9.972820405603178,
          5.622932745314222,
          5.554306273892512,
          4.704519119351101,
          10.418034580871089,
          9.538131041890441,
          3.6339165545087484,
          4.073410922112802,
          4.1232542673464865,
          6.058686932657801,
          5.131995776135163,
          5.418511490617752,
          5.332764505119454,
          5.181455842248794,
          5.722579307484968,
          5.257710618919479,
          5.230256303396541,
          4.288280197575213,
          5.298442906574395,
          4.86915486915487,
          4.330879168471199,
          3.704530238785985,
          5.215992647058823,
          5.067423704755146,
          4.815295644989968,
          4.837587006960557,
          4.681347528073501,
          8.653203156346128,
          4.409448818897638,
          4.727600180099055,
          6.157752737660688,
          10.328205128205129,
          9.473309608540925,
          12.722627188697677,
          4.028160836115546,
          4.242704242704242,
          4.81086323957323,
          7.408691631992603,
          8.046511627906977,
          6.811312607944732,
          13.681002370470708,
          13.196878887255457,
          13.059786315071605,
          10.95414543770264,
          5.160508782556026,
          5.502150265621047,
          5.579937304075235,
          6.94546343849352,
          6.643356643356643,
          5.318484596169858,
          4.112958772016137,
          3.524270039055235,
          3.750694573069087,
          3.368237347294939,
          3.1299375517267323,
          2.903393480359397,
          2.9132593457943923,
          3.338847947059708,
          3.6786060019361084,
          11.026581118240147,
          14.179315546337323,
          13.670990323244803,
          12.997475051100157,
          13.722497774386365,
          11.091026468689478,
          5.187467899332306,
          5.837334933973589,
          5.014749262536873,
          5.750184774575018,
          5.8402860548271756,
          10.621301775147929,
          11.00789004835836
         ],
         "y": [
          1852,
          1853,
          1854,
          1855,
          1856,
          1857,
          1858,
          1859,
          1860,
          1861,
          1862,
          1863,
          1864,
          1865,
          1866,
          1867,
          1868,
          1869,
          1870,
          1871,
          1872,
          1873,
          1874,
          1875,
          1876,
          1877,
          1878,
          1879,
          1880,
          1881,
          1882,
          1883,
          1884,
          1885,
          1886,
          1887,
          1888,
          1889,
          1890,
          1891,
          1892,
          1893,
          1894,
          1895,
          1896,
          1897,
          1898,
          1899,
          1900,
          1901,
          1902,
          1903,
          1904,
          1905,
          1906,
          1907,
          1908,
          1909,
          1910,
          1911,
          1912,
          1913,
          1914,
          1915,
          1916,
          1917,
          1918,
          1919,
          1920,
          1921,
          1922,
          1923,
          1924,
          1925,
          1926,
          1927,
          1928,
          1929,
          1930,
          1931,
          1932,
          1933,
          1934,
          1935,
          1936,
          1937,
          1938,
          1939,
          1940,
          1941,
          1942,
          1943,
          1944,
          1945,
          1946,
          1947,
          1948,
          1949,
          1950,
          1951,
          1952,
          1953,
          1954,
          1955,
          1956,
          1957,
          1958,
          1959,
          1960,
          1961,
          1962,
          1963,
          1965,
          1966,
          1967,
          1968,
          1969,
          1970,
          1971,
          1972,
          1973,
          1974,
          1975,
          1976,
          1977,
          1978,
          1979,
          1980,
          1981,
          1982,
          1983,
          1984,
          1985,
          1986,
          1987,
          1988,
          1989,
          1990,
          1991,
          1992,
          1993,
          1994,
          1995,
          1996,
          1997,
          1998,
          1999,
          2000,
          2001,
          2002,
          2003,
          2004,
          2005,
          2006,
          2007,
          2008,
          2009,
          2010,
          2011,
          2012,
          2013,
          2014,
          2015,
          2016,
          2017,
          2018
         ]
        },
        {
         "marker": {
          "color": "green"
         },
         "name": "Positive",
         "orientation": "h",
         "text": [
          "great",
          "intelligence",
          "united",
          "united",
          "great",
          "great",
          "united",
          "great",
          "great",
          "great",
          "great",
          "great",
          "great",
          "great",
          "united",
          "great",
          "great",
          "great",
          "great",
          "great",
          "grant",
          "great",
          "great",
          "great",
          "great",
          "united",
          "great",
          "great",
          "great",
          "united",
          "great",
          "great",
          "great",
          "great",
          "great",
          "great",
          "great",
          "great",
          "great",
          "great",
          "great",
          "great",
          "united",
          "united",
          "united",
          "united",
          "united",
          "united",
          "united",
          "great",
          "united",
          "united",
          "great",
          "peace",
          "great",
          "united",
          "great",
          "great",
          "great",
          "united",
          "great",
          "united",
          "great",
          "great",
          "peace",
          "peace",
          "peace",
          "peace",
          "peace",
          "united",
          "united",
          "united",
          "party",
          "united",
          "united",
          "great",
          "united",
          "great",
          "united",
          "relief",
          "relief",
          "united",
          "relief",
          "relief",
          "relief",
          "united",
          "united",
          "peace",
          "united",
          "united",
          "united",
          "united",
          "united",
          "united",
          "united",
          "united",
          "united",
          "united",
          "united",
          "united",
          "united",
          "united",
          "united",
          "united",
          "united",
          "united",
          "united",
          "united",
          "united",
          "united",
          "united",
          "united",
          "united",
          "united",
          "united",
          "united",
          "united",
          "united",
          "united",
          "peace",
          "agreement",
          "agreement",
          "agreement",
          "party",
          "peace",
          "united",
          "united",
          "united",
          "united",
          "united",
          "united",
          "united",
          "united",
          "united",
          "united",
          "united",
          "united",
          "united",
          "united",
          "united",
          "united",
          "united",
          "united",
          "like",
          "like",
          "like",
          "like",
          "like",
          "like",
          "like",
          "like",
          "like",
          "like",
          "like",
          "best",
          "like",
          "best",
          "interest",
          "like",
          "united",
          "like",
          "united",
          "united",
          "like",
          "care",
          "like"
         ],
         "textinfo": "text",
         "textposition": "inside",
         "type": "funnel",
         "x": [
          33.61230050603348,
          35.30103480714958,
          31.6678735216027,
          33.63549618320611,
          38.35863133521996,
          37.057902973395926,
          39.47832217130772,
          45.75471698113208,
          41.23638918159466,
          34.004163775156144,
          31.22568093385214,
          30.45733144743046,
          30.349999999999998,
          33.63707367872949,
          37.82274947662247,
          35.358758888170655,
          36.08382449246889,
          39.784572619874915,
          41.408007197480885,
          30.86543271635818,
          33.52006253256904,
          26.270569389835448,
          25.01241927471436,
          29.46933149552033,
          35.51744356493697,
          28.117099135063206,
          28.09071729957806,
          28.5218999191032,
          34.238787113076434,
          28.42533267619517,
          27.24618149146451,
          30.264248227603353,
          38.58975559509317,
          35.92092574734812,
          37.11301044634378,
          38.45699665420193,
          41.919137466307276,
          43.12613672836204,
          27.136496905201433,
          28.517459669185214,
          27.736318407960198,
          40.69990412272291,
          41.689750692520775,
          28.855169010609426,
          28.65919768702566,
          27.84838350055741,
          31.084566309216775,
          29.31767058235441,
          29.06736938588451,
          30.42982556150952,
          30.149181905678535,
          29.52506280655581,
          28.046661702655744,
          31.963428985244864,
          30.561215039822187,
          31.65745371589015,
          32.572447614801604,
          33.84972889233153,
          31.77420963398823,
          34.12447794641948,
          33.65107514963423,
          33.89469608981804,
          29.90565138663871,
          34.29361114063995,
          36.13293051359517,
          38.36898395721925,
          37.08682587379408,
          45.46987582400736,
          41.76970058096231,
          40.28699551569507,
          39.77433004231312,
          37.978963185574756,
          42.977824709609294,
          41.65320409262251,
          42.686689981485294,
          41.12589559877175,
          47.73825208607818,
          43.56264826396377,
          41.8901384083045,
          41.72956653008411,
          44.15102125025789,
          44.72970152369025,
          42.00640341515475,
          44.09314249092075,
          44.64735516372796,
          47.9347271800102,
          47.92135981978292,
          41.22868488670871,
          35.77023498694517,
          37.74376697111824,
          29.267172065242363,
          30.748112560054906,
          34.9476135040745,
          37.77348777348777,
          44.867238135061676,
          46.350606394707825,
          49.85383404542388,
          49.10776361529548,
          45.152112059531625,
          40.88077336197637,
          45.580978017048004,
          48.276633840644585,
          48.23764132121481,
          50.094996833438884,
          47.94086589229145,
          47.81783681214421,
          48.656143344709896,
          49.27627438640654,
          48.62119013062409,
          48.39577727178638,
          46.23879974994791,
          46.138302649303995,
          44.07439446366782,
          43.35049335049335,
          42.57254222607189,
          41.575541173845124,
          43.38235294117647,
          41.646557842441446,
          47.46842912781777,
          48.4338747099768,
          45.778037042438385,
          46.154874949846196,
          44.73872584108805,
          48.356596127870326,
          47.65910172988414,
          50.88205128205128,
          52.2135231316726,
          46.35905914180506,
          56.72811728843084,
          55.86355586355586,
          56.29485935984481,
          56.69209431345353,
          53.174418604651166,
          53.799654576856646,
          45.93069195168755,
          46.28519733122244,
          45.3512161854967,
          45.05558128763316,
          48.40702604482132,
          48.76043511257273,
          52,
          51.320616287600885,
          47.04853969559852,
          51.03039134054954,
          52.110597264587234,
          57.02994234703366,
          56.62159659196148,
          58.874345549738216,
          52.06530735083892,
          52.55067943862775,
          53.796728971962615,
          56.31673935930215,
          56.78958021649212,
          49.633363886342806,
          47.66663524087866,
          48.27053736874614,
          49.464951304556934,
          49.421340455296956,
          49.91607488702389,
          56.31741140215717,
          55.237094837935174,
          51.91740412979351,
          55.34368070953437,
          51.81338327941427,
          46.819526627218934,
          45.40595571392212
         ],
         "y": [
          1852,
          1853,
          1854,
          1855,
          1856,
          1857,
          1858,
          1859,
          1860,
          1861,
          1862,
          1863,
          1864,
          1865,
          1866,
          1867,
          1868,
          1869,
          1870,
          1871,
          1872,
          1873,
          1874,
          1875,
          1876,
          1877,
          1878,
          1879,
          1880,
          1881,
          1882,
          1883,
          1884,
          1885,
          1886,
          1887,
          1888,
          1889,
          1890,
          1891,
          1892,
          1893,
          1894,
          1895,
          1896,
          1897,
          1898,
          1899,
          1900,
          1901,
          1902,
          1903,
          1904,
          1905,
          1906,
          1907,
          1908,
          1909,
          1910,
          1911,
          1912,
          1913,
          1914,
          1915,
          1916,
          1917,
          1918,
          1919,
          1920,
          1921,
          1922,
          1923,
          1924,
          1925,
          1926,
          1927,
          1928,
          1929,
          1930,
          1931,
          1932,
          1933,
          1934,
          1935,
          1936,
          1937,
          1938,
          1939,
          1940,
          1941,
          1942,
          1943,
          1944,
          1945,
          1946,
          1947,
          1948,
          1949,
          1950,
          1951,
          1952,
          1953,
          1954,
          1955,
          1956,
          1957,
          1958,
          1959,
          1960,
          1961,
          1962,
          1963,
          1965,
          1966,
          1967,
          1968,
          1969,
          1970,
          1971,
          1972,
          1973,
          1974,
          1975,
          1976,
          1977,
          1978,
          1979,
          1980,
          1981,
          1982,
          1983,
          1984,
          1985,
          1986,
          1987,
          1988,
          1989,
          1990,
          1991,
          1992,
          1993,
          1994,
          1995,
          1996,
          1997,
          1998,
          1999,
          2000,
          2001,
          2002,
          2003,
          2004,
          2005,
          2006,
          2007,
          2008,
          2009,
          2010,
          2011,
          2012,
          2013,
          2014,
          2015,
          2016,
          2017,
          2018
         ]
        }
       ],
       "layout": {
        "barmode": "stack",
        "font": {
         "size": 16
        },
        "height": 8300,
        "showlegend": false,
        "template": {
         "data": {
          "bar": [
           {
            "error_x": {
             "color": "rgb(51,51,51)"
            },
            "error_y": {
             "color": "rgb(51,51,51)"
            },
            "marker": {
             "line": {
              "color": "rgb(237,237,237)",
              "width": 0.5
             }
            },
            "type": "bar"
           }
          ],
          "barpolar": [
           {
            "marker": {
             "line": {
              "color": "rgb(237,237,237)",
              "width": 0.5
             }
            },
            "type": "barpolar"
           }
          ],
          "carpet": [
           {
            "aaxis": {
             "endlinecolor": "rgb(51,51,51)",
             "gridcolor": "white",
             "linecolor": "white",
             "minorgridcolor": "white",
             "startlinecolor": "rgb(51,51,51)"
            },
            "baxis": {
             "endlinecolor": "rgb(51,51,51)",
             "gridcolor": "white",
             "linecolor": "white",
             "minorgridcolor": "white",
             "startlinecolor": "rgb(51,51,51)"
            },
            "type": "carpet"
           }
          ],
          "choropleth": [
           {
            "colorbar": {
             "outlinewidth": 0,
             "tickcolor": "rgb(237,237,237)",
             "ticklen": 6,
             "ticks": "inside"
            },
            "type": "choropleth"
           }
          ],
          "contour": [
           {
            "colorbar": {
             "outlinewidth": 0,
             "tickcolor": "rgb(237,237,237)",
             "ticklen": 6,
             "ticks": "inside"
            },
            "colorscale": [
             [
              0,
              "rgb(20,44,66)"
             ],
             [
              1,
              "rgb(90,179,244)"
             ]
            ],
            "type": "contour"
           }
          ],
          "contourcarpet": [
           {
            "colorbar": {
             "outlinewidth": 0,
             "tickcolor": "rgb(237,237,237)",
             "ticklen": 6,
             "ticks": "inside"
            },
            "type": "contourcarpet"
           }
          ],
          "heatmap": [
           {
            "colorbar": {
             "outlinewidth": 0,
             "tickcolor": "rgb(237,237,237)",
             "ticklen": 6,
             "ticks": "inside"
            },
            "colorscale": [
             [
              0,
              "rgb(20,44,66)"
             ],
             [
              1,
              "rgb(90,179,244)"
             ]
            ],
            "type": "heatmap"
           }
          ],
          "heatmapgl": [
           {
            "colorbar": {
             "outlinewidth": 0,
             "tickcolor": "rgb(237,237,237)",
             "ticklen": 6,
             "ticks": "inside"
            },
            "colorscale": [
             [
              0,
              "rgb(20,44,66)"
             ],
             [
              1,
              "rgb(90,179,244)"
             ]
            ],
            "type": "heatmapgl"
           }
          ],
          "histogram": [
           {
            "marker": {
             "colorbar": {
              "outlinewidth": 0,
              "tickcolor": "rgb(237,237,237)",
              "ticklen": 6,
              "ticks": "inside"
             }
            },
            "type": "histogram"
           }
          ],
          "histogram2d": [
           {
            "colorbar": {
             "outlinewidth": 0,
             "tickcolor": "rgb(237,237,237)",
             "ticklen": 6,
             "ticks": "inside"
            },
            "colorscale": [
             [
              0,
              "rgb(20,44,66)"
             ],
             [
              1,
              "rgb(90,179,244)"
             ]
            ],
            "type": "histogram2d"
           }
          ],
          "histogram2dcontour": [
           {
            "colorbar": {
             "outlinewidth": 0,
             "tickcolor": "rgb(237,237,237)",
             "ticklen": 6,
             "ticks": "inside"
            },
            "colorscale": [
             [
              0,
              "rgb(20,44,66)"
             ],
             [
              1,
              "rgb(90,179,244)"
             ]
            ],
            "type": "histogram2dcontour"
           }
          ],
          "mesh3d": [
           {
            "colorbar": {
             "outlinewidth": 0,
             "tickcolor": "rgb(237,237,237)",
             "ticklen": 6,
             "ticks": "inside"
            },
            "type": "mesh3d"
           }
          ],
          "parcoords": [
           {
            "line": {
             "colorbar": {
              "outlinewidth": 0,
              "tickcolor": "rgb(237,237,237)",
              "ticklen": 6,
              "ticks": "inside"
             }
            },
            "type": "parcoords"
           }
          ],
          "scatter": [
           {
            "marker": {
             "colorbar": {
              "outlinewidth": 0,
              "tickcolor": "rgb(237,237,237)",
              "ticklen": 6,
              "ticks": "inside"
             }
            },
            "type": "scatter"
           }
          ],
          "scatter3d": [
           {
            "line": {
             "colorbar": {
              "outlinewidth": 0,
              "tickcolor": "rgb(237,237,237)",
              "ticklen": 6,
              "ticks": "inside"
             }
            },
            "marker": {
             "colorbar": {
              "outlinewidth": 0,
              "tickcolor": "rgb(237,237,237)",
              "ticklen": 6,
              "ticks": "inside"
             }
            },
            "type": "scatter3d"
           }
          ],
          "scattercarpet": [
           {
            "marker": {
             "colorbar": {
              "outlinewidth": 0,
              "tickcolor": "rgb(237,237,237)",
              "ticklen": 6,
              "ticks": "inside"
             }
            },
            "type": "scattercarpet"
           }
          ],
          "scattergeo": [
           {
            "marker": {
             "colorbar": {
              "outlinewidth": 0,
              "tickcolor": "rgb(237,237,237)",
              "ticklen": 6,
              "ticks": "inside"
             }
            },
            "type": "scattergeo"
           }
          ],
          "scattergl": [
           {
            "marker": {
             "colorbar": {
              "outlinewidth": 0,
              "tickcolor": "rgb(237,237,237)",
              "ticklen": 6,
              "ticks": "inside"
             }
            },
            "type": "scattergl"
           }
          ],
          "scattermapbox": [
           {
            "marker": {
             "colorbar": {
              "outlinewidth": 0,
              "tickcolor": "rgb(237,237,237)",
              "ticklen": 6,
              "ticks": "inside"
             }
            },
            "type": "scattermapbox"
           }
          ],
          "scatterpolar": [
           {
            "marker": {
             "colorbar": {
              "outlinewidth": 0,
              "tickcolor": "rgb(237,237,237)",
              "ticklen": 6,
              "ticks": "inside"
             }
            },
            "type": "scatterpolar"
           }
          ],
          "scatterpolargl": [
           {
            "marker": {
             "colorbar": {
              "outlinewidth": 0,
              "tickcolor": "rgb(237,237,237)",
              "ticklen": 6,
              "ticks": "inside"
             }
            },
            "type": "scatterpolargl"
           }
          ],
          "scatterternary": [
           {
            "marker": {
             "colorbar": {
              "outlinewidth": 0,
              "tickcolor": "rgb(237,237,237)",
              "ticklen": 6,
              "ticks": "inside"
             }
            },
            "type": "scatterternary"
           }
          ],
          "surface": [
           {
            "colorbar": {
             "outlinewidth": 0,
             "tickcolor": "rgb(237,237,237)",
             "ticklen": 6,
             "ticks": "inside"
            },
            "colorscale": [
             [
              0,
              "rgb(20,44,66)"
             ],
             [
              1,
              "rgb(90,179,244)"
             ]
            ],
            "type": "surface"
           }
          ],
          "table": [
           {
            "cells": {
             "fill": {
              "color": "rgb(237,237,237)"
             },
             "line": {
              "color": "white"
             }
            },
            "header": {
             "fill": {
              "color": "rgb(217,217,217)"
             },
             "line": {
              "color": "white"
             }
            },
            "type": "table"
           }
          ]
         },
         "layout": {
          "annotationdefaults": {
           "arrowhead": 0,
           "arrowwidth": 1
          },
          "colorscale": {
           "sequential": [
            [
             0,
             "rgb(20,44,66)"
            ],
            [
             1,
             "rgb(90,179,244)"
            ]
           ],
           "sequentialminus": [
            [
             0,
             "rgb(20,44,66)"
            ],
            [
             1,
             "rgb(90,179,244)"
            ]
           ]
          },
          "colorway": [
           "#F8766D",
           "#A3A500",
           "#00BF7D",
           "#00B0F6",
           "#E76BF3"
          ],
          "font": {
           "color": "rgb(51,51,51)"
          },
          "geo": {
           "bgcolor": "white",
           "lakecolor": "white",
           "landcolor": "rgb(237,237,237)",
           "showlakes": true,
           "showland": true,
           "subunitcolor": "white"
          },
          "hoverlabel": {
           "align": "left"
          },
          "hovermode": "closest",
          "paper_bgcolor": "white",
          "plot_bgcolor": "rgb(237,237,237)",
          "polar": {
           "angularaxis": {
            "gridcolor": "white",
            "linecolor": "white",
            "showgrid": true,
            "tickcolor": "rgb(51,51,51)",
            "ticks": "outside"
           },
           "bgcolor": "rgb(237,237,237)",
           "radialaxis": {
            "gridcolor": "white",
            "linecolor": "white",
            "showgrid": true,
            "tickcolor": "rgb(51,51,51)",
            "ticks": "outside"
           }
          },
          "scene": {
           "xaxis": {
            "backgroundcolor": "rgb(237,237,237)",
            "gridcolor": "white",
            "gridwidth": 2,
            "linecolor": "white",
            "showbackground": true,
            "showgrid": true,
            "tickcolor": "rgb(51,51,51)",
            "ticks": "outside",
            "zerolinecolor": "white"
           },
           "yaxis": {
            "backgroundcolor": "rgb(237,237,237)",
            "gridcolor": "white",
            "gridwidth": 2,
            "linecolor": "white",
            "showbackground": true,
            "showgrid": true,
            "tickcolor": "rgb(51,51,51)",
            "ticks": "outside",
            "zerolinecolor": "white"
           },
           "zaxis": {
            "backgroundcolor": "rgb(237,237,237)",
            "gridcolor": "white",
            "gridwidth": 2,
            "linecolor": "white",
            "showbackground": true,
            "showgrid": true,
            "tickcolor": "rgb(51,51,51)",
            "ticks": "outside",
            "zerolinecolor": "white"
           }
          },
          "shapedefaults": {
           "fillcolor": "black",
           "line": {
            "width": 0
           },
           "opacity": 0.3
          },
          "ternary": {
           "aaxis": {
            "gridcolor": "white",
            "linecolor": "white",
            "showgrid": true,
            "tickcolor": "rgb(51,51,51)",
            "ticks": "outside"
           },
           "baxis": {
            "gridcolor": "white",
            "linecolor": "white",
            "showgrid": true,
            "tickcolor": "rgb(51,51,51)",
            "ticks": "outside"
           },
           "bgcolor": "rgb(237,237,237)",
           "caxis": {
            "gridcolor": "white",
            "linecolor": "white",
            "showgrid": true,
            "tickcolor": "rgb(51,51,51)",
            "ticks": "outside"
           }
          },
          "xaxis": {
           "automargin": true,
           "gridcolor": "white",
           "linecolor": "white",
           "showgrid": true,
           "tickcolor": "rgb(51,51,51)",
           "ticks": "outside",
           "zerolinecolor": "white"
          },
          "yaxis": {
           "automargin": true,
           "gridcolor": "white",
           "linecolor": "white",
           "showgrid": true,
           "tickcolor": "rgb(51,51,51)",
           "ticks": "outside",
           "zerolinecolor": "white"
          }
         }
        },
        "title": {
         "text": "Distribution of Sentiment from New York Times Front Page Articles",
         "x": 0.5,
         "xanchor": "center"
        },
        "width": 980,
        "yaxis": {
         "tickmode": "linear"
        }
       }
      },
      "text/html": [
       "<div>\n",
       "        \n",
       "        \n",
       "            <div id=\"2ffd8d35-184c-4b57-9d6e-4de7909921d5\" class=\"plotly-graph-div\" style=\"height:8300px; width:980px;\"></div>\n",
       "            <script type=\"text/javascript\">\n",
       "                require([\"plotly\"], function(Plotly) {\n",
       "                    window.PLOTLYENV=window.PLOTLYENV || {};\n",
       "                    \n",
       "                if (document.getElementById(\"2ffd8d35-184c-4b57-9d6e-4de7909921d5\")) {\n",
       "                    Plotly.newPlot(\n",
       "                        '2ffd8d35-184c-4b57-9d6e-4de7909921d5',\n",
       "                        [{\"marker\": {\"color\": \"red\"}, \"name\": \"Negative\", \"orientation\": \"h\", \"text\": [\"fire\", \"fire\", \"fire\", \"death\", \"fire\", \"murder\", \"death\", \"war\", \"war\", \"war\", \"war\", \"war\", \"war\", \"war\", \"war\", \"war\", \"murder\", \"murder\", \"war\", \"killed\", \"killed\", \"murder\", \"killed\", \"death\", \"war\", \"war\", \"murder\", \"murder\", \"war\", \"death\", \"murder\", \"murder\", \"killed\", \"killed\", \"killed\", \"killed\", \"killed\", \"killed\", \"killed\", \"death\", \"killed\", \"killed\", \"killed\", \"killed\", \"killed\", \"killed\", \"war\", \"war\", \"war\", \"killed\", \"killed\", \"killed\", \"killed\", \"killed\", \"killed\", \"killed\", \"killed\", \"killed\", \"killed\", \"killed\", \"killed\", \"killed\", \"war\", \"war\", \"war\", \"war\", \"war\", \"war\", \"killed\", \"killed\", \"killed\", \"death\", \"killed\", \"war\", \"killed\", \"killed\", \"killed\", \"killed\", \"killed\", \"war\", \"war\", \"war\", \"war\", \"war\", \"war\", \"war\", \"war\", \"war\", \"war\", \"war\", \"war\", \"war\", \"war\", \"war\", \"war\", \"war\", \"war\", \"war\", \"war\", \"war\", \"war\", \"war\", \"war\", \"war\", \"war\", \"crisis\", \"war\", \"war\", \"killed\", \"war\", \"crisis\", \"ban\", \"war\", \"war\", \"war\", \"war\", \"war\", \"killed\", \"war\", \"war\", \"war\", \"killed\", \"crisis\", \"killed\", \"killed\", \"killed\", \"killed\", \"killed\", \"war\", \"war\", \"war\", \"war\", \"killed\", \"killed\", \"war\", \"killed\", \"war\", \"war\", \"war\", \"war\", \"war\", \"war\", \"death\", \"war\", \"death\", \"death\", \"war\", \"war\", \"terrorist\", \"war\", \"war\", \"war\", \"killed\", \"war\", \"war\", \"crisis\", \"war\", \"crisis\", \"crisis\", \"crisis\", \"war\", \"war\", \"death\", \"war\", \"war\", \"war\"], \"textinfo\": \"text\", \"textposition\": \"inside\", \"type\": \"funnel\", \"x\": [28.72713117944726, 31.420507996237063, 33.767801110306536, 31.72709923664122, 31.5410342166195, 35.02347417840376, 32.81635530489954, 35.22012578616352, 23.076923076923077, 29.632199861207493, 43.70136186770428, 41.678453559641675, 41.875, 35.53762041135121, 36.67131891137474, 36.50075414781297, 36.08382449246889, 39.523974982626825, 44.37696806117859, 41.5541103885276, 33.311620635747786, 38.939857288481136, 36.18976651763537, 37.1605789110958, 30.51890941072999, 39.37458416500333, 38.0379746835443, 38.58777302669594, 30.86544535691725, 35.44849679645146, 36.43306379155436, 42.69404290580977, 46.3620189156288, 48.72709739633558, 49.43019943019943, 46.32946270419209, 42.727762803234505, 41.4678506472665, 36.258008469975024, 38.942209516030225, 39.778380823156944, 51.078619367209974, 50.36934441366574, 42.54872933629411, 41.56125767979761, 42.28539576365664, 40.39636215555858, 40.97725568607848, 40.307057745187905, 39.8244213886672, 41.61453320500481, 45.48390955855964, 51.203772648299825, 47.46990133067801, 46.804963882200404, 49.41651311748706, 48.29246544806063, 47.61812548412084, 49.33679066520395, 48.5076907405521, 49.4125471070716, 49.29345722028649, 53.53092537882398, 53.14127777187201, 52.6404833836858, 53.38680926916221, 53.29748537086826, 43.53824927180745, 47.177119022791594, 49.68609865470852, 50.98730606488011, 48.43476083145505, 43.33421330517424, 47.549811523963385, 47.623945690187206, 47.24667349027636, 41.567852437417656, 45.80547767953418, 47.66435986159169, 48.60901444899719, 45.69837012585104, 43.60258818618242, 48.068303094983996, 47.233497116000855, 47.73299748110831, 44.87506374298827, 46.32398115912349, 49.264190609670635, 54.21314977450747, 55.27030362873364, 64.36940041350793, 62.91466483642188, 59.37136204889406, 54.997854997855, 45.159941459335144, 48.026460859977945, 44.591859680683605, 46.18771726535342, 44.42985335959729, 49.58109559613319, 50.785105428443245, 47.649955237242615, 47.6391044114387, 43.846316233903316, 46.92713833157339, 46.76365169723803, 46.01109215017065, 45.542269771344664, 45.656230561890936, 46.34651210929414, 48.530943946655555, 49.57341715312079, 50.627162629757784, 51.780351780351786, 53.09657860545691, 54.71992858736889, 51.40165441176471, 53.286018452803404, 47.716275227192256, 46.72853828306264, 49.54061542948811, 45.19192189380768, 50.851825340014315, 46.915803692030615, 46.183145532455164, 38.789743589743594, 38.31316725978648, 40.91831366949726, 39.24372187545362, 39.89373989373989, 38.89427740058196, 35.899214054553866, 38.77906976744186, 39.38903281519862, 40.38830567784174, 40.51792378152211, 41.58899749943169, 43.9902732746642, 46.432465172622656, 45.737414621806224, 42.42006269592476, 41.7339202739056, 46.30810366104484, 43.6511240632806, 43.77644396339663, 39.4457876139111, 39.62770883496944, 37.75741710296684, 44.80475509743436, 44.54592708101285, 43.29001168224299, 40.34441269363814, 39.53181378157177, 39.34005499541705, 38.15404921278401, 38.05847230800906, 37.53757364434291, 36.856161770316675, 38.99289864428664, 38.495120698510526, 38.92557022809124, 43.067846607669615, 38.906134515890614, 42.34633066575856, 42.55917159763314, 43.58615423771952], \"y\": [1852, 1853, 1854, 1855, 1856, 1857, 1858, 1859, 1860, 1861, 1862, 1863, 1864, 1865, 1866, 1867, 1868, 1869, 1870, 1871, 1872, 1873, 1874, 1875, 1876, 1877, 1878, 1879, 1880, 1881, 1882, 1883, 1884, 1885, 1886, 1887, 1888, 1889, 1890, 1891, 1892, 1893, 1894, 1895, 1896, 1897, 1898, 1899, 1900, 1901, 1902, 1903, 1904, 1905, 1906, 1907, 1908, 1909, 1910, 1911, 1912, 1913, 1914, 1915, 1916, 1917, 1918, 1919, 1920, 1921, 1922, 1923, 1924, 1925, 1926, 1927, 1928, 1929, 1930, 1931, 1932, 1933, 1934, 1935, 1936, 1937, 1938, 1939, 1940, 1941, 1942, 1943, 1944, 1945, 1946, 1947, 1948, 1949, 1950, 1951, 1952, 1953, 1954, 1955, 1956, 1957, 1958, 1959, 1960, 1961, 1962, 1963, 1965, 1966, 1967, 1968, 1969, 1970, 1971, 1972, 1973, 1974, 1975, 1976, 1977, 1978, 1979, 1980, 1981, 1982, 1983, 1984, 1985, 1986, 1987, 1988, 1989, 1990, 1991, 1992, 1993, 1994, 1995, 1996, 1997, 1998, 1999, 2000, 2001, 2002, 2003, 2004, 2005, 2006, 2007, 2008, 2009, 2010, 2011, 2012, 2013, 2014, 2015, 2016, 2017, 2018]}, {\"marker\": {\"color\": \"gray\"}, \"name\": \"Neutral\", \"orientation\": \"h\", \"textinfo\": \"none\", \"type\": \"funnel\", \"x\": [37.66056831451927, 33.27845719661336, 34.564325368090756, 34.63740458015267, 30.100334448160538, 27.918622848200314, 27.70532252379274, 19.025157232704405, 35.68668774148227, 36.36363636363637, 25.07295719844358, 27.864214992927867, 27.775, 30.825305909919294, 25.50593161200279, 28.140486964016375, 27.832351015062212, 20.691452397498264, 14.215024741340532, 27.580456895114224, 33.16831683168317, 34.78957332168341, 38.79781420765027, 33.370089593383874, 33.963647024333035, 32.50831669993347, 33.87130801687764, 32.89032705420086, 34.89576753000632, 36.12617052735337, 36.32075471698113, 27.041708866586873, 15.048225489278021, 15.351976856316297, 13.456790123456791, 15.213540641605983, 15.353099730458222, 15.406012624371456, 36.60549462482354, 32.54033081478456, 32.48530076888286, 8.221476510067115, 7.940904893813482, 28.596101653096472, 29.779544633176723, 29.86622073578595, 28.51907153522465, 29.70507373156711, 30.62557286892759, 29.745753049823282, 28.23628488931665, 24.991027634884556, 20.749565649044428, 20.566669684077123, 22.633821077977405, 18.926033166622798, 19.135086937137764, 18.53214562354764, 18.88899970080782, 17.36783131302842, 16.93637774329417, 16.81184668989547, 16.56342323453731, 12.56511108748804, 11.226586102719033, 8.244206773618538, 9.615688755337656, 10.99187490418519, 11.05318039624609, 10.026905829596412, 9.23836389280677, 13.586275982970196, 13.687961985216473, 10.796984383414108, 9.689364328327505, 11.627430910951894, 10.693895476504172, 10.631874056502049, 10.445501730103807, 9.661419020918698, 10.150608623891067, 11.667710290127323, 9.925293489861259, 8.673360393078402, 7.619647355163728, 7.19020907700153, 5.75465902109359, 9.50712450362065, 10.016615238547354, 6.985929400148111, 6.363427521249713, 6.337222603523221, 5.681024447031432, 7.228657228657228, 9.972820405603178, 5.622932745314222, 5.554306273892512, 4.704519119351101, 10.418034580871089, 9.538131041890441, 3.6339165545087484, 4.073410922112802, 4.1232542673464865, 6.058686932657801, 5.131995776135163, 5.418511490617752, 5.332764505119454, 5.181455842248794, 5.722579307484968, 5.257710618919479, 5.230256303396541, 4.288280197575213, 5.298442906574395, 4.86915486915487, 4.330879168471199, 3.704530238785985, 5.215992647058823, 5.067423704755146, 4.815295644989968, 4.837587006960557, 4.681347528073501, 8.653203156346128, 4.409448818897638, 4.727600180099055, 6.157752737660688, 10.328205128205129, 9.473309608540925, 12.722627188697677, 4.028160836115546, 4.242704242704242, 4.81086323957323, 7.408691631992603, 8.046511627906977, 6.811312607944732, 13.681002370470708, 13.196878887255457, 13.059786315071605, 10.95414543770264, 5.160508782556026, 5.502150265621047, 5.579937304075235, 6.94546343849352, 6.643356643356643, 5.318484596169858, 4.112958772016137, 3.524270039055235, 3.750694573069087, 3.368237347294939, 3.1299375517267323, 2.903393480359397, 2.9132593457943923, 3.338847947059708, 3.6786060019361084, 11.026581118240147, 14.179315546337323, 13.670990323244803, 12.997475051100157, 13.722497774386365, 11.091026468689478, 5.187467899332306, 5.837334933973589, 5.014749262536873, 5.750184774575018, 5.8402860548271756, 10.621301775147929, 11.00789004835836], \"y\": [1852, 1853, 1854, 1855, 1856, 1857, 1858, 1859, 1860, 1861, 1862, 1863, 1864, 1865, 1866, 1867, 1868, 1869, 1870, 1871, 1872, 1873, 1874, 1875, 1876, 1877, 1878, 1879, 1880, 1881, 1882, 1883, 1884, 1885, 1886, 1887, 1888, 1889, 1890, 1891, 1892, 1893, 1894, 1895, 1896, 1897, 1898, 1899, 1900, 1901, 1902, 1903, 1904, 1905, 1906, 1907, 1908, 1909, 1910, 1911, 1912, 1913, 1914, 1915, 1916, 1917, 1918, 1919, 1920, 1921, 1922, 1923, 1924, 1925, 1926, 1927, 1928, 1929, 1930, 1931, 1932, 1933, 1934, 1935, 1936, 1937, 1938, 1939, 1940, 1941, 1942, 1943, 1944, 1945, 1946, 1947, 1948, 1949, 1950, 1951, 1952, 1953, 1954, 1955, 1956, 1957, 1958, 1959, 1960, 1961, 1962, 1963, 1965, 1966, 1967, 1968, 1969, 1970, 1971, 1972, 1973, 1974, 1975, 1976, 1977, 1978, 1979, 1980, 1981, 1982, 1983, 1984, 1985, 1986, 1987, 1988, 1989, 1990, 1991, 1992, 1993, 1994, 1995, 1996, 1997, 1998, 1999, 2000, 2001, 2002, 2003, 2004, 2005, 2006, 2007, 2008, 2009, 2010, 2011, 2012, 2013, 2014, 2015, 2016, 2017, 2018]}, {\"marker\": {\"color\": \"green\"}, \"name\": \"Positive\", \"orientation\": \"h\", \"text\": [\"great\", \"intelligence\", \"united\", \"united\", \"great\", \"great\", \"united\", \"great\", \"great\", \"great\", \"great\", \"great\", \"great\", \"great\", \"united\", \"great\", \"great\", \"great\", \"great\", \"great\", \"grant\", \"great\", \"great\", \"great\", \"great\", \"united\", \"great\", \"great\", \"great\", \"united\", \"great\", \"great\", \"great\", \"great\", \"great\", \"great\", \"great\", \"great\", \"great\", \"great\", \"great\", \"great\", \"united\", \"united\", \"united\", \"united\", \"united\", \"united\", \"united\", \"great\", \"united\", \"united\", \"great\", \"peace\", \"great\", \"united\", \"great\", \"great\", \"great\", \"united\", \"great\", \"united\", \"great\", \"great\", \"peace\", \"peace\", \"peace\", \"peace\", \"peace\", \"united\", \"united\", \"united\", \"party\", \"united\", \"united\", \"great\", \"united\", \"great\", \"united\", \"relief\", \"relief\", \"united\", \"relief\", \"relief\", \"relief\", \"united\", \"united\", \"peace\", \"united\", \"united\", \"united\", \"united\", \"united\", \"united\", \"united\", \"united\", \"united\", \"united\", \"united\", \"united\", \"united\", \"united\", \"united\", \"united\", \"united\", \"united\", \"united\", \"united\", \"united\", \"united\", \"united\", \"united\", \"united\", \"united\", \"united\", \"united\", \"united\", \"united\", \"united\", \"peace\", \"agreement\", \"agreement\", \"agreement\", \"party\", \"peace\", \"united\", \"united\", \"united\", \"united\", \"united\", \"united\", \"united\", \"united\", \"united\", \"united\", \"united\", \"united\", \"united\", \"united\", \"united\", \"united\", \"united\", \"united\", \"like\", \"like\", \"like\", \"like\", \"like\", \"like\", \"like\", \"like\", \"like\", \"like\", \"like\", \"best\", \"like\", \"best\", \"interest\", \"like\", \"united\", \"like\", \"united\", \"united\", \"like\", \"care\", \"like\"], \"textinfo\": \"text\", \"textposition\": \"inside\", \"type\": \"funnel\", \"x\": [33.61230050603348, 35.30103480714958, 31.6678735216027, 33.63549618320611, 38.35863133521996, 37.057902973395926, 39.47832217130772, 45.75471698113208, 41.23638918159466, 34.004163775156144, 31.22568093385214, 30.45733144743046, 30.349999999999998, 33.63707367872949, 37.82274947662247, 35.358758888170655, 36.08382449246889, 39.784572619874915, 41.408007197480885, 30.86543271635818, 33.52006253256904, 26.270569389835448, 25.01241927471436, 29.46933149552033, 35.51744356493697, 28.117099135063206, 28.09071729957806, 28.5218999191032, 34.238787113076434, 28.42533267619517, 27.24618149146451, 30.264248227603353, 38.58975559509317, 35.92092574734812, 37.11301044634378, 38.45699665420193, 41.919137466307276, 43.12613672836204, 27.136496905201433, 28.517459669185214, 27.736318407960198, 40.69990412272291, 41.689750692520775, 28.855169010609426, 28.65919768702566, 27.84838350055741, 31.084566309216775, 29.31767058235441, 29.06736938588451, 30.42982556150952, 30.149181905678535, 29.52506280655581, 28.046661702655744, 31.963428985244864, 30.561215039822187, 31.65745371589015, 32.572447614801604, 33.84972889233153, 31.77420963398823, 34.12447794641948, 33.65107514963423, 33.89469608981804, 29.90565138663871, 34.29361114063995, 36.13293051359517, 38.36898395721925, 37.08682587379408, 45.46987582400736, 41.76970058096231, 40.28699551569507, 39.77433004231312, 37.978963185574756, 42.977824709609294, 41.65320409262251, 42.686689981485294, 41.12589559877175, 47.73825208607818, 43.56264826396377, 41.8901384083045, 41.72956653008411, 44.15102125025789, 44.72970152369025, 42.00640341515475, 44.09314249092075, 44.64735516372796, 47.9347271800102, 47.92135981978292, 41.22868488670871, 35.77023498694517, 37.74376697111824, 29.267172065242363, 30.748112560054906, 34.9476135040745, 37.77348777348777, 44.867238135061676, 46.350606394707825, 49.85383404542388, 49.10776361529548, 45.152112059531625, 40.88077336197637, 45.580978017048004, 48.276633840644585, 48.23764132121481, 50.094996833438884, 47.94086589229145, 47.81783681214421, 48.656143344709896, 49.27627438640654, 48.62119013062409, 48.39577727178638, 46.23879974994791, 46.138302649303995, 44.07439446366782, 43.35049335049335, 42.57254222607189, 41.575541173845124, 43.38235294117647, 41.646557842441446, 47.46842912781777, 48.4338747099768, 45.778037042438385, 46.154874949846196, 44.73872584108805, 48.356596127870326, 47.65910172988414, 50.88205128205128, 52.2135231316726, 46.35905914180506, 56.72811728843084, 55.86355586355586, 56.29485935984481, 56.69209431345353, 53.174418604651166, 53.799654576856646, 45.93069195168755, 46.28519733122244, 45.3512161854967, 45.05558128763316, 48.40702604482132, 48.76043511257273, 52.0, 51.320616287600885, 47.04853969559852, 51.03039134054954, 52.110597264587234, 57.02994234703366, 56.62159659196148, 58.874345549738216, 52.06530735083892, 52.55067943862775, 53.796728971962615, 56.31673935930215, 56.78958021649212, 49.633363886342806, 47.66663524087866, 48.27053736874614, 49.464951304556934, 49.421340455296956, 49.91607488702389, 56.31741140215717, 55.237094837935174, 51.91740412979351, 55.34368070953437, 51.81338327941427, 46.819526627218934, 45.40595571392212], \"y\": [1852, 1853, 1854, 1855, 1856, 1857, 1858, 1859, 1860, 1861, 1862, 1863, 1864, 1865, 1866, 1867, 1868, 1869, 1870, 1871, 1872, 1873, 1874, 1875, 1876, 1877, 1878, 1879, 1880, 1881, 1882, 1883, 1884, 1885, 1886, 1887, 1888, 1889, 1890, 1891, 1892, 1893, 1894, 1895, 1896, 1897, 1898, 1899, 1900, 1901, 1902, 1903, 1904, 1905, 1906, 1907, 1908, 1909, 1910, 1911, 1912, 1913, 1914, 1915, 1916, 1917, 1918, 1919, 1920, 1921, 1922, 1923, 1924, 1925, 1926, 1927, 1928, 1929, 1930, 1931, 1932, 1933, 1934, 1935, 1936, 1937, 1938, 1939, 1940, 1941, 1942, 1943, 1944, 1945, 1946, 1947, 1948, 1949, 1950, 1951, 1952, 1953, 1954, 1955, 1956, 1957, 1958, 1959, 1960, 1961, 1962, 1963, 1965, 1966, 1967, 1968, 1969, 1970, 1971, 1972, 1973, 1974, 1975, 1976, 1977, 1978, 1979, 1980, 1981, 1982, 1983, 1984, 1985, 1986, 1987, 1988, 1989, 1990, 1991, 1992, 1993, 1994, 1995, 1996, 1997, 1998, 1999, 2000, 2001, 2002, 2003, 2004, 2005, 2006, 2007, 2008, 2009, 2010, 2011, 2012, 2013, 2014, 2015, 2016, 2017, 2018]}],\n",
       "                        {\"barmode\": \"stack\", \"font\": {\"size\": 16}, \"height\": 8300, \"showlegend\": false, \"template\": {\"data\": {\"bar\": [{\"error_x\": {\"color\": \"rgb(51,51,51)\"}, \"error_y\": {\"color\": \"rgb(51,51,51)\"}, \"marker\": {\"line\": {\"color\": \"rgb(237,237,237)\", \"width\": 0.5}}, \"type\": \"bar\"}], \"barpolar\": [{\"marker\": {\"line\": {\"color\": \"rgb(237,237,237)\", \"width\": 0.5}}, \"type\": \"barpolar\"}], \"carpet\": [{\"aaxis\": {\"endlinecolor\": \"rgb(51,51,51)\", \"gridcolor\": \"white\", \"linecolor\": \"white\", \"minorgridcolor\": \"white\", \"startlinecolor\": \"rgb(51,51,51)\"}, \"baxis\": {\"endlinecolor\": \"rgb(51,51,51)\", \"gridcolor\": \"white\", \"linecolor\": \"white\", \"minorgridcolor\": \"white\", \"startlinecolor\": \"rgb(51,51,51)\"}, \"type\": \"carpet\"}], \"choropleth\": [{\"colorbar\": {\"outlinewidth\": 0, \"tickcolor\": \"rgb(237,237,237)\", \"ticklen\": 6, \"ticks\": \"inside\"}, \"type\": \"choropleth\"}], \"contour\": [{\"colorbar\": {\"outlinewidth\": 0, \"tickcolor\": \"rgb(237,237,237)\", \"ticklen\": 6, \"ticks\": \"inside\"}, \"colorscale\": [[0, \"rgb(20,44,66)\"], [1, \"rgb(90,179,244)\"]], \"type\": \"contour\"}], \"contourcarpet\": [{\"colorbar\": {\"outlinewidth\": 0, \"tickcolor\": \"rgb(237,237,237)\", \"ticklen\": 6, \"ticks\": \"inside\"}, \"type\": \"contourcarpet\"}], \"heatmap\": [{\"colorbar\": {\"outlinewidth\": 0, \"tickcolor\": \"rgb(237,237,237)\", \"ticklen\": 6, \"ticks\": \"inside\"}, \"colorscale\": [[0, \"rgb(20,44,66)\"], [1, \"rgb(90,179,244)\"]], \"type\": \"heatmap\"}], \"heatmapgl\": [{\"colorbar\": {\"outlinewidth\": 0, \"tickcolor\": \"rgb(237,237,237)\", \"ticklen\": 6, \"ticks\": \"inside\"}, \"colorscale\": [[0, \"rgb(20,44,66)\"], [1, \"rgb(90,179,244)\"]], \"type\": \"heatmapgl\"}], \"histogram\": [{\"marker\": {\"colorbar\": {\"outlinewidth\": 0, \"tickcolor\": \"rgb(237,237,237)\", \"ticklen\": 6, \"ticks\": \"inside\"}}, \"type\": \"histogram\"}], \"histogram2d\": [{\"colorbar\": {\"outlinewidth\": 0, \"tickcolor\": \"rgb(237,237,237)\", \"ticklen\": 6, \"ticks\": \"inside\"}, \"colorscale\": [[0, \"rgb(20,44,66)\"], [1, \"rgb(90,179,244)\"]], \"type\": \"histogram2d\"}], \"histogram2dcontour\": [{\"colorbar\": {\"outlinewidth\": 0, \"tickcolor\": \"rgb(237,237,237)\", \"ticklen\": 6, \"ticks\": \"inside\"}, \"colorscale\": [[0, \"rgb(20,44,66)\"], [1, \"rgb(90,179,244)\"]], \"type\": \"histogram2dcontour\"}], \"mesh3d\": [{\"colorbar\": {\"outlinewidth\": 0, \"tickcolor\": \"rgb(237,237,237)\", \"ticklen\": 6, \"ticks\": \"inside\"}, \"type\": \"mesh3d\"}], \"parcoords\": [{\"line\": {\"colorbar\": {\"outlinewidth\": 0, \"tickcolor\": \"rgb(237,237,237)\", \"ticklen\": 6, \"ticks\": \"inside\"}}, \"type\": \"parcoords\"}], \"scatter\": [{\"marker\": {\"colorbar\": {\"outlinewidth\": 0, \"tickcolor\": \"rgb(237,237,237)\", \"ticklen\": 6, \"ticks\": \"inside\"}}, \"type\": \"scatter\"}], \"scatter3d\": [{\"line\": {\"colorbar\": {\"outlinewidth\": 0, \"tickcolor\": \"rgb(237,237,237)\", \"ticklen\": 6, \"ticks\": \"inside\"}}, \"marker\": {\"colorbar\": {\"outlinewidth\": 0, \"tickcolor\": \"rgb(237,237,237)\", \"ticklen\": 6, \"ticks\": \"inside\"}}, \"type\": \"scatter3d\"}], \"scattercarpet\": [{\"marker\": {\"colorbar\": {\"outlinewidth\": 0, \"tickcolor\": \"rgb(237,237,237)\", \"ticklen\": 6, \"ticks\": \"inside\"}}, \"type\": \"scattercarpet\"}], \"scattergeo\": [{\"marker\": {\"colorbar\": {\"outlinewidth\": 0, \"tickcolor\": \"rgb(237,237,237)\", \"ticklen\": 6, \"ticks\": \"inside\"}}, \"type\": \"scattergeo\"}], \"scattergl\": [{\"marker\": {\"colorbar\": {\"outlinewidth\": 0, \"tickcolor\": \"rgb(237,237,237)\", \"ticklen\": 6, \"ticks\": \"inside\"}}, \"type\": \"scattergl\"}], \"scattermapbox\": [{\"marker\": {\"colorbar\": {\"outlinewidth\": 0, \"tickcolor\": \"rgb(237,237,237)\", \"ticklen\": 6, \"ticks\": \"inside\"}}, \"type\": \"scattermapbox\"}], \"scatterpolar\": [{\"marker\": {\"colorbar\": {\"outlinewidth\": 0, \"tickcolor\": \"rgb(237,237,237)\", \"ticklen\": 6, \"ticks\": \"inside\"}}, \"type\": \"scatterpolar\"}], \"scatterpolargl\": [{\"marker\": {\"colorbar\": {\"outlinewidth\": 0, \"tickcolor\": \"rgb(237,237,237)\", \"ticklen\": 6, \"ticks\": \"inside\"}}, \"type\": \"scatterpolargl\"}], \"scatterternary\": [{\"marker\": {\"colorbar\": {\"outlinewidth\": 0, \"tickcolor\": \"rgb(237,237,237)\", \"ticklen\": 6, \"ticks\": \"inside\"}}, \"type\": \"scatterternary\"}], \"surface\": [{\"colorbar\": {\"outlinewidth\": 0, \"tickcolor\": \"rgb(237,237,237)\", \"ticklen\": 6, \"ticks\": \"inside\"}, \"colorscale\": [[0, \"rgb(20,44,66)\"], [1, \"rgb(90,179,244)\"]], \"type\": \"surface\"}], \"table\": [{\"cells\": {\"fill\": {\"color\": \"rgb(237,237,237)\"}, \"line\": {\"color\": \"white\"}}, \"header\": {\"fill\": {\"color\": \"rgb(217,217,217)\"}, \"line\": {\"color\": \"white\"}}, \"type\": \"table\"}]}, \"layout\": {\"annotationdefaults\": {\"arrowhead\": 0, \"arrowwidth\": 1}, \"colorscale\": {\"sequential\": [[0, \"rgb(20,44,66)\"], [1, \"rgb(90,179,244)\"]], \"sequentialminus\": [[0, \"rgb(20,44,66)\"], [1, \"rgb(90,179,244)\"]]}, \"colorway\": [\"#F8766D\", \"#A3A500\", \"#00BF7D\", \"#00B0F6\", \"#E76BF3\"], \"font\": {\"color\": \"rgb(51,51,51)\"}, \"geo\": {\"bgcolor\": \"white\", \"lakecolor\": \"white\", \"landcolor\": \"rgb(237,237,237)\", \"showlakes\": true, \"showland\": true, \"subunitcolor\": \"white\"}, \"hoverlabel\": {\"align\": \"left\"}, \"hovermode\": \"closest\", \"paper_bgcolor\": \"white\", \"plot_bgcolor\": \"rgb(237,237,237)\", \"polar\": {\"angularaxis\": {\"gridcolor\": \"white\", \"linecolor\": \"white\", \"showgrid\": true, \"tickcolor\": \"rgb(51,51,51)\", \"ticks\": \"outside\"}, \"bgcolor\": \"rgb(237,237,237)\", \"radialaxis\": {\"gridcolor\": \"white\", \"linecolor\": \"white\", \"showgrid\": true, \"tickcolor\": \"rgb(51,51,51)\", \"ticks\": \"outside\"}}, \"scene\": {\"xaxis\": {\"backgroundcolor\": \"rgb(237,237,237)\", \"gridcolor\": \"white\", \"gridwidth\": 2, \"linecolor\": \"white\", \"showbackground\": true, \"showgrid\": true, \"tickcolor\": \"rgb(51,51,51)\", \"ticks\": \"outside\", \"zerolinecolor\": \"white\"}, \"yaxis\": {\"backgroundcolor\": \"rgb(237,237,237)\", \"gridcolor\": \"white\", \"gridwidth\": 2, \"linecolor\": \"white\", \"showbackground\": true, \"showgrid\": true, \"tickcolor\": \"rgb(51,51,51)\", \"ticks\": \"outside\", \"zerolinecolor\": \"white\"}, \"zaxis\": {\"backgroundcolor\": \"rgb(237,237,237)\", \"gridcolor\": \"white\", \"gridwidth\": 2, \"linecolor\": \"white\", \"showbackground\": true, \"showgrid\": true, \"tickcolor\": \"rgb(51,51,51)\", \"ticks\": \"outside\", \"zerolinecolor\": \"white\"}}, \"shapedefaults\": {\"fillcolor\": \"black\", \"line\": {\"width\": 0}, \"opacity\": 0.3}, \"ternary\": {\"aaxis\": {\"gridcolor\": \"white\", \"linecolor\": \"white\", \"showgrid\": true, \"tickcolor\": \"rgb(51,51,51)\", \"ticks\": \"outside\"}, \"baxis\": {\"gridcolor\": \"white\", \"linecolor\": \"white\", \"showgrid\": true, \"tickcolor\": \"rgb(51,51,51)\", \"ticks\": \"outside\"}, \"bgcolor\": \"rgb(237,237,237)\", \"caxis\": {\"gridcolor\": \"white\", \"linecolor\": \"white\", \"showgrid\": true, \"tickcolor\": \"rgb(51,51,51)\", \"ticks\": \"outside\"}}, \"xaxis\": {\"automargin\": true, \"gridcolor\": \"white\", \"linecolor\": \"white\", \"showgrid\": true, \"tickcolor\": \"rgb(51,51,51)\", \"ticks\": \"outside\", \"zerolinecolor\": \"white\"}, \"yaxis\": {\"automargin\": true, \"gridcolor\": \"white\", \"linecolor\": \"white\", \"showgrid\": true, \"tickcolor\": \"rgb(51,51,51)\", \"ticks\": \"outside\", \"zerolinecolor\": \"white\"}}}, \"title\": {\"text\": \"Distribution of Sentiment from New York Times Front Page Articles\", \"x\": 0.5, \"xanchor\": \"center\"}, \"width\": 980, \"yaxis\": {\"tickmode\": \"linear\"}},\n",
       "                        {\"responsive\": true}\n",
       "                    ).then(function(){\n",
       "                            \n",
       "var gd = document.getElementById('2ffd8d35-184c-4b57-9d6e-4de7909921d5');\n",
       "var x = new MutationObserver(function (mutations, observer) {{\n",
       "        var display = window.getComputedStyle(gd).display;\n",
       "        if (!display || display === 'none') {{\n",
       "            console.log([gd, 'removed!']);\n",
       "            Plotly.purge(gd);\n",
       "            observer.disconnect();\n",
       "        }}\n",
       "}});\n",
       "\n",
       "// Listen for the removal of the full notebook cells\n",
       "var notebookContainer = gd.closest('#notebook-container');\n",
       "if (notebookContainer) {{\n",
       "    x.observe(notebookContainer, {childList: true});\n",
       "}}\n",
       "\n",
       "// Listen for the clearing of the current output cell\n",
       "var outputEl = gd.closest('.output');\n",
       "if (outputEl) {{\n",
       "    x.observe(outputEl, {childList: true});\n",
       "}}\n",
       "\n",
       "                        })\n",
       "                };\n",
       "                });\n",
       "            </script>\n",
       "        </div>"
      ]
     },
     "metadata": {},
     "output_type": "display_data"
    }
   ],
   "source": [
    "import plotly.graph_objects as go\n",
    "import plotly\n",
    "plotly.offline.init_notebook_mode(connected=True)\n",
    "\n",
    "fig = go.Figure(go.Funnel(y=df.index.year, \n",
    "                       x=df.Negative.values, \n",
    "                       name='Negative', \n",
    "                       orientation='h',\n",
    "                       textposition='inside',\n",
    "                       textinfo='text',\n",
    "                       marker_color='red',\n",
    "                       text=common_neg))\n",
    "\n",
    "fig.add_trace(go.Funnel(y=df.index.year, \n",
    "                     x=df.Neutral.values, \n",
    "                     name='Neutral',\n",
    "                     textinfo='none',\n",
    "                     marker_color='gray',\n",
    "                     orientation='h'))\n",
    "\n",
    "fig.add_trace(go.Funnel(y=df.index.year, \n",
    "                     x=df.Positive.values, \n",
    "                     name='Positive', \n",
    "                     orientation='h', \n",
    "                     textposition='inside',\n",
    "                     textinfo='text',\n",
    "                     marker_color='green',\n",
    "                     text=common_pos))\n",
    "\n",
    "fig.update_layout(barmode='stack', \n",
    "                  showlegend=False,\n",
    "                  template='ggplot2',\n",
    "                  title={\n",
    "                      'text': 'Distribution of Sentiment from New York Times Front Page Articles',\n",
    "                      'x': 0.5,\n",
    "                      'xanchor': 'center'},\n",
    "                  width=980, \n",
    "                  font=dict(\n",
    "                        size=16,\n",
    "                    ),\n",
    "                  height=50*len(df),\n",
    "                  yaxis=dict(tickmode='linear'))\n",
    "\n",
    "fig.show()"
   ]
  },
  {
   "cell_type": "markdown",
   "metadata": {},
   "source": [
    "### Graphing Trends\n",
    "Now let's take a look at the trends for each sentiment class throughout the years, and graph the overall trend. We'll also identify a few significant events that do appear to reflect how they would be expected."
   ]
  },
  {
   "cell_type": "code",
   "execution_count": 28,
   "metadata": {},
   "outputs": [
    {
     "data": {
      "image/png": "[encoded data removed]",
      "text/plain": [
       "<Figure size 1008x576 with 1 Axes>"
      ]
     },
     "metadata": {},
     "output_type": "display_data"
    },
    {
     "data": {
      "image/png": "[encoded data removed]",
      "text/plain": [
       "<Figure size 1008x576 with 1 Axes>"
      ]
     },
     "metadata": {},
     "output_type": "display_data"
    },
    {
     "data": {
      "image/png": "[encoded data removed]",
      "text/plain": [
       "<Figure size 1008x576 with 1 Axes>"
      ]
     },
     "metadata": {},
     "output_type": "display_data"
    }
   ],
   "source": [
    "from matplotlib import pyplot\n",
    "import statsmodels.api as sm\n",
    "\n",
    "df['year'] = df.index.year\n",
    "columns = ['Negative', 'Neutral', 'Positive']\n",
    "\n",
    "with plt.style.context('fivethirtyeight'):\n",
    "    for column in columns:\n",
    "        fig, ax = pyplot.subplots(1,1)\n",
    "        fig.set_size_inches(14, 8)\n",
    "        df.plot(x='year', y=column, ax=ax)\n",
    "        ax.set_title(label='{} Sentiment Trend'.format(column))\n",
    "        ax.set_ylim(0,100)\n",
    "        ax.margins(500)\n",
    "        \n",
    "        if column == 'Negative':\n",
    "            ax.annotate('World War 2', \n",
    "                           xy=(1941,43), \n",
    "                           xytext=(-60,-70), textcoords='offset pixels',\n",
    "                           size=20,\n",
    "                           arrowprops=dict(arrowstyle='-[,widthB=1.4',\n",
    "                                           lw=2,\n",
    "                                           edgecolor='black',\n",
    "                                           facecolor='black',\n",
    "                                          )\n",
    "                          )\n",
    "            \n",
    "            ax.annotate('World War 1', \n",
    "                           xy=(1916,54), \n",
    "                           xytext=(-60,40), textcoords='offset pixels',\n",
    "                           size=20,\n",
    "                           arrowprops=dict(arrowstyle='-[,widthB=0.8',\n",
    "                                           lw=2,\n",
    "                                           edgecolor='black',\n",
    "                                           facecolor='black',\n",
    "                                          )\n",
    "                          )\n",
    "            \n",
    "        if column == 'Positive':\n",
    "            ax.annotate('Panic of 1874', \n",
    "                           xy=(1874,36), \n",
    "                           xytext=(-65,50), textcoords='offset pixels',\n",
    "                           size=20,\n",
    "                           arrowprops=dict(arrowstyle='-[,widthB=0.6',\n",
    "                                           lw=2,\n",
    "                                           edgecolor='black',\n",
    "                                           facecolor='black',\n",
    "                                          )\n",
    "                          )\n",
    "        \n",
    "        model = sm.formula.ols(formula='{} ~ year'.format(column), data=df)\n",
    "        res = model.fit()\n",
    "        df.assign(fit=res.fittedvalues).plot(x='year', y='fit', ax=ax)\n",
    "    pyplot.tight_layout(pad=4)"
   ]
  }
 ],
 "metadata": {
  "kernelspec": {
   "display_name": "Python 3",
   "language": "python",
   "name": "python3"
  },
  "language_info": {
   "codemirror_mode": {
    "name": "ipython",
    "version": 3
   },
   "file_extension": ".py",
   "mimetype": "text/x-python",
   "name": "python",
   "nbconvert_exporter": "python",
   "pygments_lexer": "ipython3",
   "version": "3.6.5"
  }
 },
 "nbformat": 4,
 "nbformat_minor": 2
}
